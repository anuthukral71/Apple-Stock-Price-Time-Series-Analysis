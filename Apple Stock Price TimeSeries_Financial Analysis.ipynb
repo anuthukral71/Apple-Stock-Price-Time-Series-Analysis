{
  "nbformat": 4,
  "nbformat_minor": 0,
  "metadata": {
    "colab": {
      "provenance": [],
      "toc_visible": true
    },
    "kernelspec": {
      "name": "python3",
      "display_name": "Python 3"
    }
  },
  "cells": [
    {
      "cell_type": "markdown",
      "metadata": {
        "id": "JjLYDfOybtQn"
      },
      "source": [
        "# Advanced EDA: Financial (Time Series) Data\n",
        "**OPIM 5512: Data Science Using Python - University of Connecticut**\n",
        "\n",
        "-------------------------------------------------\n",
        "Time series data behaves a little different than a regular structured dataset. Let's look at a snapshot of AAPL's stock price data - which is a very clean dataset allowing you to focus more on feature engineering than dirty data.\n",
        "\n",
        "By the end of this, you should feel comfortable visualizing time series data and manipulating it so much that you have the confidence to build your own stock trading algorithm!"
      ]
    },
    {
      "cell_type": "markdown",
      "metadata": {
        "id": "yyxX2fFofdue"
      },
      "source": [
        "## Load AAPL Dataset\n",
        "First, mount your Drive and then read in the AAPL dataset.\n",
        "\n",
        "<center>\n",
        "\n",
        "![apple logo](https://pbs.twimg.com/profile_images/1283958620359516160/p7zz5dxZ.jpg)"
      ]
    },
    {
      "cell_type": "code",
      "metadata": {
        "id": "xBZPXwHXbnZB"
      },
      "source": [
        "# import modules\n",
        "import pandas as pd\n",
        "import numpy as np\n",
        "import matplotlib.pyplot as plt"
      ],
      "execution_count": null,
      "outputs": []
    },
    {
      "cell_type": "code",
      "metadata": {
        "id": "2bYkO3Bkcu2M",
        "colab": {
          "base_uri": "https://localhost:8080/"
        },
        "outputId": "f8fe6e70-b65f-4573-fb7c-cea30a08aa92"
      },
      "source": [
        "from google.colab import drive\n",
        "drive.mount('/content/drive')"
      ],
      "execution_count": null,
      "outputs": [
        {
          "output_type": "stream",
          "text": [
            "Drive already mounted at /content/drive; to attempt to forcibly remount, call drive.mount(\"/content/drive\", force_remount=True).\n"
          ],
          "name": "stdout"
        }
      ]
    },
    {
      "cell_type": "code",
      "metadata": {
        "id": "P7ZFLV0Xcqsq"
      },
      "source": [
        "# read in some data\n",
        "df = pd.read_csv(\"/content/drive/MyDrive/Online Materials/Module 2: Dirty Data and Parametric Models/Week 1: Advanced EDA/data/AAPL.csv\")"
      ],
      "execution_count": null,
      "outputs": []
    },
    {
      "cell_type": "code",
      "metadata": {
        "id": "_Tlu_DUkdAKB",
        "colab": {
          "base_uri": "https://localhost:8080/",
          "height": 202
        },
        "outputId": "e1b3358c-5416-4f3b-faff-5f12cfa7816a"
      },
      "source": [
        "# see what the data looks like\n",
        "df.head()"
      ],
      "execution_count": null,
      "outputs": [
        {
          "output_type": "execute_result",
          "data": {
            "text/html": [
              "<div>\n",
              "<style scoped>\n",
              "    .dataframe tbody tr th:only-of-type {\n",
              "        vertical-align: middle;\n",
              "    }\n",
              "\n",
              "    .dataframe tbody tr th {\n",
              "        vertical-align: top;\n",
              "    }\n",
              "\n",
              "    .dataframe thead th {\n",
              "        text-align: right;\n",
              "    }\n",
              "</style>\n",
              "<table border=\"1\" class=\"dataframe\">\n",
              "  <thead>\n",
              "    <tr style=\"text-align: right;\">\n",
              "      <th></th>\n",
              "      <th>Date</th>\n",
              "      <th>Open</th>\n",
              "      <th>High</th>\n",
              "      <th>Low</th>\n",
              "      <th>Close</th>\n",
              "      <th>Adj Close</th>\n",
              "      <th>Volume</th>\n",
              "    </tr>\n",
              "  </thead>\n",
              "  <tbody>\n",
              "    <tr>\n",
              "      <th>0</th>\n",
              "      <td>1980-12-12</td>\n",
              "      <td>0.513393</td>\n",
              "      <td>0.515625</td>\n",
              "      <td>0.513393</td>\n",
              "      <td>0.513393</td>\n",
              "      <td>0.407747</td>\n",
              "      <td>117258400.0</td>\n",
              "    </tr>\n",
              "    <tr>\n",
              "      <th>1</th>\n",
              "      <td>1980-12-15</td>\n",
              "      <td>0.488839</td>\n",
              "      <td>0.488839</td>\n",
              "      <td>0.486607</td>\n",
              "      <td>0.486607</td>\n",
              "      <td>0.386473</td>\n",
              "      <td>43971200.0</td>\n",
              "    </tr>\n",
              "    <tr>\n",
              "      <th>2</th>\n",
              "      <td>1980-12-16</td>\n",
              "      <td>0.453125</td>\n",
              "      <td>0.453125</td>\n",
              "      <td>0.450893</td>\n",
              "      <td>0.450893</td>\n",
              "      <td>0.358108</td>\n",
              "      <td>26432000.0</td>\n",
              "    </tr>\n",
              "    <tr>\n",
              "      <th>3</th>\n",
              "      <td>1980-12-17</td>\n",
              "      <td>0.462054</td>\n",
              "      <td>0.464286</td>\n",
              "      <td>0.462054</td>\n",
              "      <td>0.462054</td>\n",
              "      <td>0.366972</td>\n",
              "      <td>21610400.0</td>\n",
              "    </tr>\n",
              "    <tr>\n",
              "      <th>4</th>\n",
              "      <td>1980-12-18</td>\n",
              "      <td>0.475446</td>\n",
              "      <td>0.477679</td>\n",
              "      <td>0.475446</td>\n",
              "      <td>0.475446</td>\n",
              "      <td>0.377609</td>\n",
              "      <td>18362400.0</td>\n",
              "    </tr>\n",
              "  </tbody>\n",
              "</table>\n",
              "</div>"
            ],
            "text/plain": [
              "         Date      Open      High       Low     Close  Adj Close       Volume\n",
              "0  1980-12-12  0.513393  0.515625  0.513393  0.513393   0.407747  117258400.0\n",
              "1  1980-12-15  0.488839  0.488839  0.486607  0.486607   0.386473   43971200.0\n",
              "2  1980-12-16  0.453125  0.453125  0.450893  0.450893   0.358108   26432000.0\n",
              "3  1980-12-17  0.462054  0.464286  0.462054  0.462054   0.366972   21610400.0\n",
              "4  1980-12-18  0.475446  0.477679  0.475446  0.475446   0.377609   18362400.0"
            ]
          },
          "metadata": {
            "tags": []
          },
          "execution_count": 4
        }
      ]
    },
    {
      "cell_type": "markdown",
      "metadata": {
        "id": "xiZX-CSUyqEh"
      },
      "source": [
        "Let's look at the data types - whenever we have a time series dataset, you should ensure all time-related variables are stored as a datetime object."
      ]
    },
    {
      "cell_type": "code",
      "metadata": {
        "colab": {
          "base_uri": "https://localhost:8080/"
        },
        "id": "nbJB3Yx8yxSs",
        "outputId": "6e378f12-29be-4434-d07f-c9a3cd3e5ee1"
      },
      "source": [
        "df.info() # right now it looks like 'Date' is stored as an object... let's fix that!"
      ],
      "execution_count": null,
      "outputs": [
        {
          "output_type": "stream",
          "text": [
            "<class 'pandas.core.frame.DataFrame'>\n",
            "RangeIndex: 9848 entries, 0 to 9847\n",
            "Data columns (total 7 columns):\n",
            " #   Column     Non-Null Count  Dtype  \n",
            "---  ------     --------------  -----  \n",
            " 0   Date       9848 non-null   object \n",
            " 1   Open       9847 non-null   float64\n",
            " 2   High       9847 non-null   float64\n",
            " 3   Low        9847 non-null   float64\n",
            " 4   Close      9847 non-null   float64\n",
            " 5   Adj Close  9847 non-null   float64\n",
            " 6   Volume     9847 non-null   float64\n",
            "dtypes: float64(6), object(1)\n",
            "memory usage: 538.7+ KB\n"
          ],
          "name": "stdout"
        }
      ]
    },
    {
      "cell_type": "markdown",
      "metadata": {
        "id": "8MbwKcSZy2eS"
      },
      "source": [
        "Convert the 'Date' column to be a datetime object so we can manipulate it."
      ]
    },
    {
      "cell_type": "code",
      "metadata": {
        "colab": {
          "base_uri": "https://localhost:8080/"
        },
        "id": "IuIkKkcyy7ey",
        "outputId": "39bdf01e-c9ee-4048-d923-0edb82667687"
      },
      "source": [
        "# convert to datetime\n",
        "df['Date'] = pd.to_datetime(df['Date'])\n",
        "df.info() # better!"
      ],
      "execution_count": null,
      "outputs": [
        {
          "output_type": "stream",
          "text": [
            "<class 'pandas.core.frame.DataFrame'>\n",
            "RangeIndex: 9848 entries, 0 to 9847\n",
            "Data columns (total 7 columns):\n",
            " #   Column     Non-Null Count  Dtype         \n",
            "---  ------     --------------  -----         \n",
            " 0   Date       9848 non-null   datetime64[ns]\n",
            " 1   Open       9847 non-null   float64       \n",
            " 2   High       9847 non-null   float64       \n",
            " 3   Low        9847 non-null   float64       \n",
            " 4   Close      9847 non-null   float64       \n",
            " 5   Adj Close  9847 non-null   float64       \n",
            " 6   Volume     9847 non-null   float64       \n",
            "dtypes: datetime64[ns](1), float64(6)\n",
            "memory usage: 538.7 KB\n"
          ],
          "name": "stdout"
        }
      ]
    },
    {
      "cell_type": "markdown",
      "metadata": {
        "id": "sPJhxBuOzD-C"
      },
      "source": [
        "Let's see what this looks like in the data."
      ]
    },
    {
      "cell_type": "code",
      "metadata": {
        "colab": {
          "base_uri": "https://localhost:8080/",
          "height": 355
        },
        "id": "fzHBRzrXzF9y",
        "outputId": "8ca74465-8a15-4dc4-8ff3-10ee56fb4953"
      },
      "source": [
        "df.head(n=10) # inspect the first ten rows - not much has changed\n",
        "                  # but you will see the power soon enough!"
      ],
      "execution_count": null,
      "outputs": [
        {
          "output_type": "execute_result",
          "data": {
            "text/html": [
              "<div>\n",
              "<style scoped>\n",
              "    .dataframe tbody tr th:only-of-type {\n",
              "        vertical-align: middle;\n",
              "    }\n",
              "\n",
              "    .dataframe tbody tr th {\n",
              "        vertical-align: top;\n",
              "    }\n",
              "\n",
              "    .dataframe thead th {\n",
              "        text-align: right;\n",
              "    }\n",
              "</style>\n",
              "<table border=\"1\" class=\"dataframe\">\n",
              "  <thead>\n",
              "    <tr style=\"text-align: right;\">\n",
              "      <th></th>\n",
              "      <th>Date</th>\n",
              "      <th>Open</th>\n",
              "      <th>High</th>\n",
              "      <th>Low</th>\n",
              "      <th>Close</th>\n",
              "      <th>Adj Close</th>\n",
              "      <th>Volume</th>\n",
              "    </tr>\n",
              "  </thead>\n",
              "  <tbody>\n",
              "    <tr>\n",
              "      <th>0</th>\n",
              "      <td>1980-12-12</td>\n",
              "      <td>0.513393</td>\n",
              "      <td>0.515625</td>\n",
              "      <td>0.513393</td>\n",
              "      <td>0.513393</td>\n",
              "      <td>0.407747</td>\n",
              "      <td>117258400.0</td>\n",
              "    </tr>\n",
              "    <tr>\n",
              "      <th>1</th>\n",
              "      <td>1980-12-15</td>\n",
              "      <td>0.488839</td>\n",
              "      <td>0.488839</td>\n",
              "      <td>0.486607</td>\n",
              "      <td>0.486607</td>\n",
              "      <td>0.386473</td>\n",
              "      <td>43971200.0</td>\n",
              "    </tr>\n",
              "    <tr>\n",
              "      <th>2</th>\n",
              "      <td>1980-12-16</td>\n",
              "      <td>0.453125</td>\n",
              "      <td>0.453125</td>\n",
              "      <td>0.450893</td>\n",
              "      <td>0.450893</td>\n",
              "      <td>0.358108</td>\n",
              "      <td>26432000.0</td>\n",
              "    </tr>\n",
              "    <tr>\n",
              "      <th>3</th>\n",
              "      <td>1980-12-17</td>\n",
              "      <td>0.462054</td>\n",
              "      <td>0.464286</td>\n",
              "      <td>0.462054</td>\n",
              "      <td>0.462054</td>\n",
              "      <td>0.366972</td>\n",
              "      <td>21610400.0</td>\n",
              "    </tr>\n",
              "    <tr>\n",
              "      <th>4</th>\n",
              "      <td>1980-12-18</td>\n",
              "      <td>0.475446</td>\n",
              "      <td>0.477679</td>\n",
              "      <td>0.475446</td>\n",
              "      <td>0.475446</td>\n",
              "      <td>0.377609</td>\n",
              "      <td>18362400.0</td>\n",
              "    </tr>\n",
              "    <tr>\n",
              "      <th>5</th>\n",
              "      <td>1980-12-19</td>\n",
              "      <td>0.504464</td>\n",
              "      <td>0.506696</td>\n",
              "      <td>0.504464</td>\n",
              "      <td>0.504464</td>\n",
              "      <td>0.400656</td>\n",
              "      <td>12157600.0</td>\n",
              "    </tr>\n",
              "    <tr>\n",
              "      <th>6</th>\n",
              "      <td>1980-12-22</td>\n",
              "      <td>0.529018</td>\n",
              "      <td>0.531250</td>\n",
              "      <td>0.529018</td>\n",
              "      <td>0.529018</td>\n",
              "      <td>0.420157</td>\n",
              "      <td>9340800.0</td>\n",
              "    </tr>\n",
              "    <tr>\n",
              "      <th>7</th>\n",
              "      <td>1980-12-23</td>\n",
              "      <td>0.551339</td>\n",
              "      <td>0.553571</td>\n",
              "      <td>0.551339</td>\n",
              "      <td>0.551339</td>\n",
              "      <td>0.437885</td>\n",
              "      <td>11737600.0</td>\n",
              "    </tr>\n",
              "    <tr>\n",
              "      <th>8</th>\n",
              "      <td>1980-12-24</td>\n",
              "      <td>0.580357</td>\n",
              "      <td>0.582589</td>\n",
              "      <td>0.580357</td>\n",
              "      <td>0.580357</td>\n",
              "      <td>0.460931</td>\n",
              "      <td>12000800.0</td>\n",
              "    </tr>\n",
              "    <tr>\n",
              "      <th>9</th>\n",
              "      <td>1980-12-26</td>\n",
              "      <td>0.633929</td>\n",
              "      <td>0.636161</td>\n",
              "      <td>0.633929</td>\n",
              "      <td>0.633929</td>\n",
              "      <td>0.503479</td>\n",
              "      <td>13893600.0</td>\n",
              "    </tr>\n",
              "  </tbody>\n",
              "</table>\n",
              "</div>"
            ],
            "text/plain": [
              "        Date      Open      High       Low     Close  Adj Close       Volume\n",
              "0 1980-12-12  0.513393  0.515625  0.513393  0.513393   0.407747  117258400.0\n",
              "1 1980-12-15  0.488839  0.488839  0.486607  0.486607   0.386473   43971200.0\n",
              "2 1980-12-16  0.453125  0.453125  0.450893  0.450893   0.358108   26432000.0\n",
              "3 1980-12-17  0.462054  0.464286  0.462054  0.462054   0.366972   21610400.0\n",
              "4 1980-12-18  0.475446  0.477679  0.475446  0.475446   0.377609   18362400.0\n",
              "5 1980-12-19  0.504464  0.506696  0.504464  0.504464   0.400656   12157600.0\n",
              "6 1980-12-22  0.529018  0.531250  0.529018  0.529018   0.420157    9340800.0\n",
              "7 1980-12-23  0.551339  0.553571  0.551339  0.551339   0.437885   11737600.0\n",
              "8 1980-12-24  0.580357  0.582589  0.580357  0.580357   0.460931   12000800.0\n",
              "9 1980-12-26  0.633929  0.636161  0.633929  0.633929   0.503479   13893600.0"
            ]
          },
          "metadata": {
            "tags": []
          },
          "execution_count": 7
        }
      ]
    },
    {
      "cell_type": "markdown",
      "metadata": {
        "id": "gyyVUSCQiXSQ"
      },
      "source": [
        "## Data Summary\n",
        "Compute summary statistics on the dataset and look at the correlation in the dataset. This is a pandas function that presents useful summary statistics for min, max, mean, median, quantiles, sd etc. Can be used on a series or a dataframe.\n",
        "\n",
        "* https://pandas.pydata.org/pandas-docs/stable/reference/api/pandas.DataFrame.describe.html"
      ]
    },
    {
      "cell_type": "code",
      "metadata": {
        "id": "AKF1V5hcibRK",
        "colab": {
          "base_uri": "https://localhost:8080/",
          "height": 294
        },
        "outputId": "f8e7708a-5c2f-4807-c6d6-6928f3126a38"
      },
      "source": [
        "# Statistic Summary\n",
        "# example on a dataframe\n",
        "df.describe()"
      ],
      "execution_count": null,
      "outputs": [
        {
          "output_type": "execute_result",
          "data": {
            "text/html": [
              "<div>\n",
              "<style scoped>\n",
              "    .dataframe tbody tr th:only-of-type {\n",
              "        vertical-align: middle;\n",
              "    }\n",
              "\n",
              "    .dataframe tbody tr th {\n",
              "        vertical-align: top;\n",
              "    }\n",
              "\n",
              "    .dataframe thead th {\n",
              "        text-align: right;\n",
              "    }\n",
              "</style>\n",
              "<table border=\"1\" class=\"dataframe\">\n",
              "  <thead>\n",
              "    <tr style=\"text-align: right;\">\n",
              "      <th></th>\n",
              "      <th>Open</th>\n",
              "      <th>High</th>\n",
              "      <th>Low</th>\n",
              "      <th>Close</th>\n",
              "      <th>Adj Close</th>\n",
              "      <th>Volume</th>\n",
              "    </tr>\n",
              "  </thead>\n",
              "  <tbody>\n",
              "    <tr>\n",
              "      <th>count</th>\n",
              "      <td>9847.000000</td>\n",
              "      <td>9847.000000</td>\n",
              "      <td>9847.000000</td>\n",
              "      <td>9847.000000</td>\n",
              "      <td>9847.000000</td>\n",
              "      <td>9.847000e+03</td>\n",
              "    </tr>\n",
              "    <tr>\n",
              "      <th>mean</th>\n",
              "      <td>30.971548</td>\n",
              "      <td>31.267553</td>\n",
              "      <td>30.666651</td>\n",
              "      <td>30.977288</td>\n",
              "      <td>28.993430</td>\n",
              "      <td>8.605793e+07</td>\n",
              "    </tr>\n",
              "    <tr>\n",
              "      <th>std</th>\n",
              "      <td>54.780774</td>\n",
              "      <td>55.258075</td>\n",
              "      <td>54.319836</td>\n",
              "      <td>54.814548</td>\n",
              "      <td>53.029434</td>\n",
              "      <td>8.617441e+07</td>\n",
              "    </tr>\n",
              "    <tr>\n",
              "      <th>min</th>\n",
              "      <td>0.198661</td>\n",
              "      <td>0.198661</td>\n",
              "      <td>0.196429</td>\n",
              "      <td>0.196429</td>\n",
              "      <td>0.156008</td>\n",
              "      <td>3.472000e+05</td>\n",
              "    </tr>\n",
              "    <tr>\n",
              "      <th>25%</th>\n",
              "      <td>1.064286</td>\n",
              "      <td>1.087500</td>\n",
              "      <td>1.044643</td>\n",
              "      <td>1.067857</td>\n",
              "      <td>0.916318</td>\n",
              "      <td>3.307895e+07</td>\n",
              "    </tr>\n",
              "    <tr>\n",
              "      <th>50%</th>\n",
              "      <td>1.714286</td>\n",
              "      <td>1.750000</td>\n",
              "      <td>1.678571</td>\n",
              "      <td>1.718750</td>\n",
              "      <td>1.457793</td>\n",
              "      <td>5.778220e+07</td>\n",
              "    </tr>\n",
              "    <tr>\n",
              "      <th>75%</th>\n",
              "      <td>32.500715</td>\n",
              "      <td>32.784287</td>\n",
              "      <td>32.093570</td>\n",
              "      <td>32.500714</td>\n",
              "      <td>28.278903</td>\n",
              "      <td>1.074654e+08</td>\n",
              "    </tr>\n",
              "    <tr>\n",
              "      <th>max</th>\n",
              "      <td>296.239990</td>\n",
              "      <td>300.600006</td>\n",
              "      <td>295.190002</td>\n",
              "      <td>300.350006</td>\n",
              "      <td>300.350006</td>\n",
              "      <td>1.855410e+09</td>\n",
              "    </tr>\n",
              "  </tbody>\n",
              "</table>\n",
              "</div>"
            ],
            "text/plain": [
              "              Open         High  ...    Adj Close        Volume\n",
              "count  9847.000000  9847.000000  ...  9847.000000  9.847000e+03\n",
              "mean     30.971548    31.267553  ...    28.993430  8.605793e+07\n",
              "std      54.780774    55.258075  ...    53.029434  8.617441e+07\n",
              "min       0.198661     0.198661  ...     0.156008  3.472000e+05\n",
              "25%       1.064286     1.087500  ...     0.916318  3.307895e+07\n",
              "50%       1.714286     1.750000  ...     1.457793  5.778220e+07\n",
              "75%      32.500715    32.784287  ...    28.278903  1.074654e+08\n",
              "max     296.239990   300.600006  ...   300.350006  1.855410e+09\n",
              "\n",
              "[8 rows x 6 columns]"
            ]
          },
          "metadata": {
            "tags": []
          },
          "execution_count": 8
        }
      ]
    },
    {
      "cell_type": "markdown",
      "metadata": {
        "id": "XdHBaGEHU0kR"
      },
      "source": [
        "This is the raw price data - which is OK - but later on if we convert this to 'percentage change' or 'difference' we will likely be able to discern better insights. We can do this later on after we ensure missing values are handled!"
      ]
    },
    {
      "cell_type": "markdown",
      "metadata": {
        "id": "t1Eyz6B8iUX-"
      },
      "source": [
        "## Missing Values\n",
        "Time series data can be especially problematic if there is missing data - here is how you can check the count of missing values per column.\n",
        "\n",
        "In our dataset, it looks like there is one suspicious row."
      ]
    },
    {
      "cell_type": "code",
      "metadata": {
        "id": "wPxkvvQHubT9",
        "colab": {
          "base_uri": "https://localhost:8080/"
        },
        "outputId": "56bec48a-1654-47c4-e482-2e6decab941c"
      },
      "source": [
        "# count any missing values\n",
        "# link: https://thispointer.com/python-pandas-count-number-of-nan-or-missing-values-in-dataframe-also-row-column-wise/\n",
        "df.isnull().sum()"
      ],
      "execution_count": null,
      "outputs": [
        {
          "output_type": "execute_result",
          "data": {
            "text/plain": [
              "Date         0\n",
              "Open         1\n",
              "High         1\n",
              "Low          1\n",
              "Close        1\n",
              "Adj Close    1\n",
              "Volume       1\n",
              "dtype: int64"
            ]
          },
          "metadata": {
            "tags": []
          },
          "execution_count": 9
        }
      ]
    },
    {
      "cell_type": "markdown",
      "metadata": {
        "id": "J-fhuk9ryV5r"
      },
      "source": [
        "Let's drop all rows where at least one entry is missing per row."
      ]
    },
    {
      "cell_type": "code",
      "metadata": {
        "id": "BcIo_egUgUly",
        "colab": {
          "base_uri": "https://localhost:8080/"
        },
        "outputId": "72bb32ed-0827-491c-e4a5-67b4c3843a58"
      },
      "source": [
        "# Drop the missing value and reset index\n",
        "print(df.shape)\n",
        "df.dropna(inplace=True)\n",
        "print(df.shape) # see how this has one less row?!"
      ],
      "execution_count": null,
      "outputs": [
        {
          "output_type": "stream",
          "text": [
            "(9848, 7)\n",
            "(9847, 7)\n"
          ],
          "name": "stdout"
        }
      ]
    },
    {
      "cell_type": "markdown",
      "metadata": {
        "id": "HqhVQ8muVIfQ"
      },
      "source": [
        "One less row (9848 vs. 9847 rows)."
      ]
    },
    {
      "cell_type": "markdown",
      "metadata": {
        "id": "rgi_45Q4yli7"
      },
      "source": [
        "# Feature Engineering\n",
        "Once your data is in pandas, you can do A LOT of interesting temporal feature engineering."
      ]
    },
    {
      "cell_type": "markdown",
      "metadata": {
        "id": "PLS2L4NIVPv4"
      },
      "source": [
        "## Day of Week\n",
        "\n",
        "* https://pandas.pydata.org/pandas-docs/stable/reference/api/pandas.Series.dt.day_name.html"
      ]
    },
    {
      "cell_type": "code",
      "metadata": {
        "id": "naNMDK0mueZA"
      },
      "source": [
        "# since these are temporal data, make a timerange dataframe, and join the data,\n",
        "# to make sure you have all the days you think you do\n",
        "# if you don't, you need to interpolate!"
      ],
      "execution_count": null,
      "outputs": []
    },
    {
      "cell_type": "code",
      "metadata": {
        "id": "jTNAXL9HtBxL"
      },
      "source": [
        "# add a column for day of week\n",
        "df['DayOfWeek'] = df['Date'].dt.day_name()"
      ],
      "execution_count": null,
      "outputs": []
    },
    {
      "cell_type": "code",
      "metadata": {
        "id": "2PbXTiBNt-Ew",
        "colab": {
          "base_uri": "https://localhost:8080/",
          "height": 202
        },
        "outputId": "8e7ef2b9-eb32-4c3e-c406-7192892221c7"
      },
      "source": [
        "# see what you did!\n",
        "df.head()"
      ],
      "execution_count": null,
      "outputs": [
        {
          "output_type": "execute_result",
          "data": {
            "text/html": [
              "<div>\n",
              "<style scoped>\n",
              "    .dataframe tbody tr th:only-of-type {\n",
              "        vertical-align: middle;\n",
              "    }\n",
              "\n",
              "    .dataframe tbody tr th {\n",
              "        vertical-align: top;\n",
              "    }\n",
              "\n",
              "    .dataframe thead th {\n",
              "        text-align: right;\n",
              "    }\n",
              "</style>\n",
              "<table border=\"1\" class=\"dataframe\">\n",
              "  <thead>\n",
              "    <tr style=\"text-align: right;\">\n",
              "      <th></th>\n",
              "      <th>Date</th>\n",
              "      <th>Open</th>\n",
              "      <th>High</th>\n",
              "      <th>Low</th>\n",
              "      <th>Close</th>\n",
              "      <th>Adj Close</th>\n",
              "      <th>Volume</th>\n",
              "      <th>DayOfWeek</th>\n",
              "    </tr>\n",
              "  </thead>\n",
              "  <tbody>\n",
              "    <tr>\n",
              "      <th>0</th>\n",
              "      <td>1980-12-12</td>\n",
              "      <td>0.513393</td>\n",
              "      <td>0.515625</td>\n",
              "      <td>0.513393</td>\n",
              "      <td>0.513393</td>\n",
              "      <td>0.407747</td>\n",
              "      <td>117258400.0</td>\n",
              "      <td>Friday</td>\n",
              "    </tr>\n",
              "    <tr>\n",
              "      <th>1</th>\n",
              "      <td>1980-12-15</td>\n",
              "      <td>0.488839</td>\n",
              "      <td>0.488839</td>\n",
              "      <td>0.486607</td>\n",
              "      <td>0.486607</td>\n",
              "      <td>0.386473</td>\n",
              "      <td>43971200.0</td>\n",
              "      <td>Monday</td>\n",
              "    </tr>\n",
              "    <tr>\n",
              "      <th>2</th>\n",
              "      <td>1980-12-16</td>\n",
              "      <td>0.453125</td>\n",
              "      <td>0.453125</td>\n",
              "      <td>0.450893</td>\n",
              "      <td>0.450893</td>\n",
              "      <td>0.358108</td>\n",
              "      <td>26432000.0</td>\n",
              "      <td>Tuesday</td>\n",
              "    </tr>\n",
              "    <tr>\n",
              "      <th>3</th>\n",
              "      <td>1980-12-17</td>\n",
              "      <td>0.462054</td>\n",
              "      <td>0.464286</td>\n",
              "      <td>0.462054</td>\n",
              "      <td>0.462054</td>\n",
              "      <td>0.366972</td>\n",
              "      <td>21610400.0</td>\n",
              "      <td>Wednesday</td>\n",
              "    </tr>\n",
              "    <tr>\n",
              "      <th>4</th>\n",
              "      <td>1980-12-18</td>\n",
              "      <td>0.475446</td>\n",
              "      <td>0.477679</td>\n",
              "      <td>0.475446</td>\n",
              "      <td>0.475446</td>\n",
              "      <td>0.377609</td>\n",
              "      <td>18362400.0</td>\n",
              "      <td>Thursday</td>\n",
              "    </tr>\n",
              "  </tbody>\n",
              "</table>\n",
              "</div>"
            ],
            "text/plain": [
              "        Date      Open      High  ...  Adj Close       Volume  DayOfWeek\n",
              "0 1980-12-12  0.513393  0.515625  ...   0.407747  117258400.0     Friday\n",
              "1 1980-12-15  0.488839  0.488839  ...   0.386473   43971200.0     Monday\n",
              "2 1980-12-16  0.453125  0.453125  ...   0.358108   26432000.0    Tuesday\n",
              "3 1980-12-17  0.462054  0.464286  ...   0.366972   21610400.0  Wednesday\n",
              "4 1980-12-18  0.475446  0.477679  ...   0.377609   18362400.0   Thursday\n",
              "\n",
              "[5 rows x 8 columns]"
            ]
          },
          "metadata": {
            "tags": []
          },
          "execution_count": 13
        }
      ]
    },
    {
      "cell_type": "markdown",
      "metadata": {
        "id": "ECk7zkN9dXxs"
      },
      "source": [
        "# Parsing the date into simpler variables\n",
        "Once you have your 'base' column in the proper datetime format, let it rip! I always do this right out the the gate so I have more buckets or dimensions to analyze my data."
      ]
    },
    {
      "cell_type": "code",
      "metadata": {
        "colab": {
          "base_uri": "https://localhost:8080/",
          "height": 202
        },
        "id": "smsgVwOfdaHF",
        "outputId": "4b5ad2aa-8060-4473-930c-914f616e2234"
      },
      "source": [
        "# let's make some new columns for month, day and year\n",
        "df['Date'] = pd.to_datetime(df['Date'])\n",
        "df['Month'] = df['Date'].dt.month\n",
        "df['Day'] = df['Date'].dt.day\n",
        "df['Year'] = df['Date'].dt.year\n",
        "\n",
        "df.head()"
      ],
      "execution_count": null,
      "outputs": [
        {
          "output_type": "execute_result",
          "data": {
            "text/html": [
              "<div>\n",
              "<style scoped>\n",
              "    .dataframe tbody tr th:only-of-type {\n",
              "        vertical-align: middle;\n",
              "    }\n",
              "\n",
              "    .dataframe tbody tr th {\n",
              "        vertical-align: top;\n",
              "    }\n",
              "\n",
              "    .dataframe thead th {\n",
              "        text-align: right;\n",
              "    }\n",
              "</style>\n",
              "<table border=\"1\" class=\"dataframe\">\n",
              "  <thead>\n",
              "    <tr style=\"text-align: right;\">\n",
              "      <th></th>\n",
              "      <th>Date</th>\n",
              "      <th>Open</th>\n",
              "      <th>High</th>\n",
              "      <th>Low</th>\n",
              "      <th>Close</th>\n",
              "      <th>Adj Close</th>\n",
              "      <th>Volume</th>\n",
              "      <th>DayOfWeek</th>\n",
              "      <th>Month</th>\n",
              "      <th>Day</th>\n",
              "      <th>Year</th>\n",
              "    </tr>\n",
              "  </thead>\n",
              "  <tbody>\n",
              "    <tr>\n",
              "      <th>0</th>\n",
              "      <td>1980-12-12</td>\n",
              "      <td>0.513393</td>\n",
              "      <td>0.515625</td>\n",
              "      <td>0.513393</td>\n",
              "      <td>0.513393</td>\n",
              "      <td>0.407747</td>\n",
              "      <td>117258400.0</td>\n",
              "      <td>Friday</td>\n",
              "      <td>12</td>\n",
              "      <td>12</td>\n",
              "      <td>1980</td>\n",
              "    </tr>\n",
              "    <tr>\n",
              "      <th>1</th>\n",
              "      <td>1980-12-15</td>\n",
              "      <td>0.488839</td>\n",
              "      <td>0.488839</td>\n",
              "      <td>0.486607</td>\n",
              "      <td>0.486607</td>\n",
              "      <td>0.386473</td>\n",
              "      <td>43971200.0</td>\n",
              "      <td>Monday</td>\n",
              "      <td>12</td>\n",
              "      <td>15</td>\n",
              "      <td>1980</td>\n",
              "    </tr>\n",
              "    <tr>\n",
              "      <th>2</th>\n",
              "      <td>1980-12-16</td>\n",
              "      <td>0.453125</td>\n",
              "      <td>0.453125</td>\n",
              "      <td>0.450893</td>\n",
              "      <td>0.450893</td>\n",
              "      <td>0.358108</td>\n",
              "      <td>26432000.0</td>\n",
              "      <td>Tuesday</td>\n",
              "      <td>12</td>\n",
              "      <td>16</td>\n",
              "      <td>1980</td>\n",
              "    </tr>\n",
              "    <tr>\n",
              "      <th>3</th>\n",
              "      <td>1980-12-17</td>\n",
              "      <td>0.462054</td>\n",
              "      <td>0.464286</td>\n",
              "      <td>0.462054</td>\n",
              "      <td>0.462054</td>\n",
              "      <td>0.366972</td>\n",
              "      <td>21610400.0</td>\n",
              "      <td>Wednesday</td>\n",
              "      <td>12</td>\n",
              "      <td>17</td>\n",
              "      <td>1980</td>\n",
              "    </tr>\n",
              "    <tr>\n",
              "      <th>4</th>\n",
              "      <td>1980-12-18</td>\n",
              "      <td>0.475446</td>\n",
              "      <td>0.477679</td>\n",
              "      <td>0.475446</td>\n",
              "      <td>0.475446</td>\n",
              "      <td>0.377609</td>\n",
              "      <td>18362400.0</td>\n",
              "      <td>Thursday</td>\n",
              "      <td>12</td>\n",
              "      <td>18</td>\n",
              "      <td>1980</td>\n",
              "    </tr>\n",
              "  </tbody>\n",
              "</table>\n",
              "</div>"
            ],
            "text/plain": [
              "        Date      Open      High       Low  ...  DayOfWeek  Month  Day  Year\n",
              "0 1980-12-12  0.513393  0.515625  0.513393  ...     Friday     12   12  1980\n",
              "1 1980-12-15  0.488839  0.488839  0.486607  ...     Monday     12   15  1980\n",
              "2 1980-12-16  0.453125  0.453125  0.450893  ...    Tuesday     12   16  1980\n",
              "3 1980-12-17  0.462054  0.464286  0.462054  ...  Wednesday     12   17  1980\n",
              "4 1980-12-18  0.475446  0.477679  0.475446  ...   Thursday     12   18  1980\n",
              "\n",
              "[5 rows x 11 columns]"
            ]
          },
          "metadata": {
            "tags": []
          },
          "execution_count": 14
        }
      ]
    },
    {
      "cell_type": "markdown",
      "metadata": {
        "id": "EMSojaq5V_9B"
      },
      "source": [
        "## diff() and pct_change()\n",
        "You can set the date as the index if you want, but so long as your data are in order (like ours are), you can calcuate the raw and percentage difference between the previous rows.\n",
        "\n",
        "This of course will leave you with an NaN in the top row, but that's fine! We will just drop that first row afterwards (we have a ton of data and don't need it). As the analyst, you get to decide how to treat the data.\n",
        "\n",
        "* https://pandas.pydata.org/pandas-docs/stable/reference/api/pandas.DataFrame.diff.html\n",
        "* https://pandas.pydata.org/pandas-docs/stable/reference/api/pandas.DataFrame.pct_change.html\n",
        "\n",
        "Works for series or dataframes!"
      ]
    },
    {
      "cell_type": "code",
      "metadata": {
        "colab": {
          "base_uri": "https://localhost:8080/",
          "height": 306
        },
        "id": "ea-_V2wmWXTA",
        "outputId": "9bd3fc0e-2687-4101-e3c2-cb0a1377c611"
      },
      "source": [
        "# make a new column for RawChange for 'Adj Close' and populate it\n",
        "df['RawChange'] = df['Adj Close'].diff()\n",
        "df.head(n=5) # see how the stock price changed by 2 cents?"
      ],
      "execution_count": null,
      "outputs": [
        {
          "output_type": "execute_result",
          "data": {
            "text/html": [
              "<div>\n",
              "<style scoped>\n",
              "    .dataframe tbody tr th:only-of-type {\n",
              "        vertical-align: middle;\n",
              "    }\n",
              "\n",
              "    .dataframe tbody tr th {\n",
              "        vertical-align: top;\n",
              "    }\n",
              "\n",
              "    .dataframe thead th {\n",
              "        text-align: right;\n",
              "    }\n",
              "</style>\n",
              "<table border=\"1\" class=\"dataframe\">\n",
              "  <thead>\n",
              "    <tr style=\"text-align: right;\">\n",
              "      <th></th>\n",
              "      <th>Date</th>\n",
              "      <th>Open</th>\n",
              "      <th>High</th>\n",
              "      <th>Low</th>\n",
              "      <th>Close</th>\n",
              "      <th>Adj Close</th>\n",
              "      <th>Volume</th>\n",
              "      <th>DayOfWeek</th>\n",
              "      <th>Month</th>\n",
              "      <th>Day</th>\n",
              "      <th>Year</th>\n",
              "      <th>RawChange</th>\n",
              "    </tr>\n",
              "  </thead>\n",
              "  <tbody>\n",
              "    <tr>\n",
              "      <th>0</th>\n",
              "      <td>1980-12-12</td>\n",
              "      <td>0.513393</td>\n",
              "      <td>0.515625</td>\n",
              "      <td>0.513393</td>\n",
              "      <td>0.513393</td>\n",
              "      <td>0.407747</td>\n",
              "      <td>117258400.0</td>\n",
              "      <td>Friday</td>\n",
              "      <td>12</td>\n",
              "      <td>12</td>\n",
              "      <td>1980</td>\n",
              "      <td>NaN</td>\n",
              "    </tr>\n",
              "    <tr>\n",
              "      <th>1</th>\n",
              "      <td>1980-12-15</td>\n",
              "      <td>0.488839</td>\n",
              "      <td>0.488839</td>\n",
              "      <td>0.486607</td>\n",
              "      <td>0.486607</td>\n",
              "      <td>0.386473</td>\n",
              "      <td>43971200.0</td>\n",
              "      <td>Monday</td>\n",
              "      <td>12</td>\n",
              "      <td>15</td>\n",
              "      <td>1980</td>\n",
              "      <td>-0.021274</td>\n",
              "    </tr>\n",
              "    <tr>\n",
              "      <th>2</th>\n",
              "      <td>1980-12-16</td>\n",
              "      <td>0.453125</td>\n",
              "      <td>0.453125</td>\n",
              "      <td>0.450893</td>\n",
              "      <td>0.450893</td>\n",
              "      <td>0.358108</td>\n",
              "      <td>26432000.0</td>\n",
              "      <td>Tuesday</td>\n",
              "      <td>12</td>\n",
              "      <td>16</td>\n",
              "      <td>1980</td>\n",
              "      <td>-0.028365</td>\n",
              "    </tr>\n",
              "    <tr>\n",
              "      <th>3</th>\n",
              "      <td>1980-12-17</td>\n",
              "      <td>0.462054</td>\n",
              "      <td>0.464286</td>\n",
              "      <td>0.462054</td>\n",
              "      <td>0.462054</td>\n",
              "      <td>0.366972</td>\n",
              "      <td>21610400.0</td>\n",
              "      <td>Wednesday</td>\n",
              "      <td>12</td>\n",
              "      <td>17</td>\n",
              "      <td>1980</td>\n",
              "      <td>0.008864</td>\n",
              "    </tr>\n",
              "    <tr>\n",
              "      <th>4</th>\n",
              "      <td>1980-12-18</td>\n",
              "      <td>0.475446</td>\n",
              "      <td>0.477679</td>\n",
              "      <td>0.475446</td>\n",
              "      <td>0.475446</td>\n",
              "      <td>0.377609</td>\n",
              "      <td>18362400.0</td>\n",
              "      <td>Thursday</td>\n",
              "      <td>12</td>\n",
              "      <td>18</td>\n",
              "      <td>1980</td>\n",
              "      <td>0.010637</td>\n",
              "    </tr>\n",
              "  </tbody>\n",
              "</table>\n",
              "</div>"
            ],
            "text/plain": [
              "        Date      Open      High       Low  ...  Month  Day  Year RawChange\n",
              "0 1980-12-12  0.513393  0.515625  0.513393  ...     12   12  1980       NaN\n",
              "1 1980-12-15  0.488839  0.488839  0.486607  ...     12   15  1980 -0.021274\n",
              "2 1980-12-16  0.453125  0.453125  0.450893  ...     12   16  1980 -0.028365\n",
              "3 1980-12-17  0.462054  0.464286  0.462054  ...     12   17  1980  0.008864\n",
              "4 1980-12-18  0.475446  0.477679  0.475446  ...     12   18  1980  0.010637\n",
              "\n",
              "[5 rows x 12 columns]"
            ]
          },
          "metadata": {
            "tags": []
          },
          "execution_count": 15
        }
      ]
    },
    {
      "cell_type": "code",
      "metadata": {
        "colab": {
          "base_uri": "https://localhost:8080/",
          "height": 326
        },
        "id": "7-QEau0MWSVi",
        "outputId": "afa7c43c-a496-4da7-d190-0fd71e173412"
      },
      "source": [
        "# make a new column for PctChange for 'Adj Close' and populate it\n",
        "df['PctChange'] = df['Adj Close'].pct_change()\n",
        "df.head(n=5)"
      ],
      "execution_count": null,
      "outputs": [
        {
          "output_type": "execute_result",
          "data": {
            "text/html": [
              "<div>\n",
              "<style scoped>\n",
              "    .dataframe tbody tr th:only-of-type {\n",
              "        vertical-align: middle;\n",
              "    }\n",
              "\n",
              "    .dataframe tbody tr th {\n",
              "        vertical-align: top;\n",
              "    }\n",
              "\n",
              "    .dataframe thead th {\n",
              "        text-align: right;\n",
              "    }\n",
              "</style>\n",
              "<table border=\"1\" class=\"dataframe\">\n",
              "  <thead>\n",
              "    <tr style=\"text-align: right;\">\n",
              "      <th></th>\n",
              "      <th>Date</th>\n",
              "      <th>Open</th>\n",
              "      <th>High</th>\n",
              "      <th>Low</th>\n",
              "      <th>Close</th>\n",
              "      <th>Adj Close</th>\n",
              "      <th>Volume</th>\n",
              "      <th>DayOfWeek</th>\n",
              "      <th>Month</th>\n",
              "      <th>Day</th>\n",
              "      <th>Year</th>\n",
              "      <th>RawChange</th>\n",
              "      <th>PctChange</th>\n",
              "    </tr>\n",
              "  </thead>\n",
              "  <tbody>\n",
              "    <tr>\n",
              "      <th>0</th>\n",
              "      <td>1980-12-12</td>\n",
              "      <td>0.513393</td>\n",
              "      <td>0.515625</td>\n",
              "      <td>0.513393</td>\n",
              "      <td>0.513393</td>\n",
              "      <td>0.407747</td>\n",
              "      <td>117258400.0</td>\n",
              "      <td>Friday</td>\n",
              "      <td>12</td>\n",
              "      <td>12</td>\n",
              "      <td>1980</td>\n",
              "      <td>NaN</td>\n",
              "      <td>NaN</td>\n",
              "    </tr>\n",
              "    <tr>\n",
              "      <th>1</th>\n",
              "      <td>1980-12-15</td>\n",
              "      <td>0.488839</td>\n",
              "      <td>0.488839</td>\n",
              "      <td>0.486607</td>\n",
              "      <td>0.486607</td>\n",
              "      <td>0.386473</td>\n",
              "      <td>43971200.0</td>\n",
              "      <td>Monday</td>\n",
              "      <td>12</td>\n",
              "      <td>15</td>\n",
              "      <td>1980</td>\n",
              "      <td>-0.021274</td>\n",
              "      <td>-0.052175</td>\n",
              "    </tr>\n",
              "    <tr>\n",
              "      <th>2</th>\n",
              "      <td>1980-12-16</td>\n",
              "      <td>0.453125</td>\n",
              "      <td>0.453125</td>\n",
              "      <td>0.450893</td>\n",
              "      <td>0.450893</td>\n",
              "      <td>0.358108</td>\n",
              "      <td>26432000.0</td>\n",
              "      <td>Tuesday</td>\n",
              "      <td>12</td>\n",
              "      <td>16</td>\n",
              "      <td>1980</td>\n",
              "      <td>-0.028365</td>\n",
              "      <td>-0.073395</td>\n",
              "    </tr>\n",
              "    <tr>\n",
              "      <th>3</th>\n",
              "      <td>1980-12-17</td>\n",
              "      <td>0.462054</td>\n",
              "      <td>0.464286</td>\n",
              "      <td>0.462054</td>\n",
              "      <td>0.462054</td>\n",
              "      <td>0.366972</td>\n",
              "      <td>21610400.0</td>\n",
              "      <td>Wednesday</td>\n",
              "      <td>12</td>\n",
              "      <td>17</td>\n",
              "      <td>1980</td>\n",
              "      <td>0.008864</td>\n",
              "      <td>0.024752</td>\n",
              "    </tr>\n",
              "    <tr>\n",
              "      <th>4</th>\n",
              "      <td>1980-12-18</td>\n",
              "      <td>0.475446</td>\n",
              "      <td>0.477679</td>\n",
              "      <td>0.475446</td>\n",
              "      <td>0.475446</td>\n",
              "      <td>0.377609</td>\n",
              "      <td>18362400.0</td>\n",
              "      <td>Thursday</td>\n",
              "      <td>12</td>\n",
              "      <td>18</td>\n",
              "      <td>1980</td>\n",
              "      <td>0.010637</td>\n",
              "      <td>0.028986</td>\n",
              "    </tr>\n",
              "  </tbody>\n",
              "</table>\n",
              "</div>"
            ],
            "text/plain": [
              "        Date      Open      High       Low  ...  Day  Year  RawChange PctChange\n",
              "0 1980-12-12  0.513393  0.515625  0.513393  ...   12  1980        NaN       NaN\n",
              "1 1980-12-15  0.488839  0.488839  0.486607  ...   15  1980  -0.021274 -0.052175\n",
              "2 1980-12-16  0.453125  0.453125  0.450893  ...   16  1980  -0.028365 -0.073395\n",
              "3 1980-12-17  0.462054  0.464286  0.462054  ...   17  1980   0.008864  0.024752\n",
              "4 1980-12-18  0.475446  0.477679  0.475446  ...   18  1980   0.010637  0.028986\n",
              "\n",
              "[5 rows x 13 columns]"
            ]
          },
          "metadata": {
            "tags": []
          },
          "execution_count": 16
        }
      ]
    },
    {
      "cell_type": "markdown",
      "metadata": {
        "id": "BYyR9SKMk2xH"
      },
      "source": [
        "# Visualization\n",
        "Time series data is often best described as a line plot. You can use `matplotlib` directly, or many times, you can just use `pandas` (which is what I do)!\n",
        "\n",
        "* https://matplotlib.org/3.3.3/api/_as_gen/matplotlib.pyplot.scatter.html\n",
        "* https://stackoverflow.com/questions/37581145/connect-line-of-scatter-plot-on-pandas-dataframe"
      ]
    },
    {
      "cell_type": "markdown",
      "metadata": {
        "id": "CycYQdEnZJc_"
      },
      "source": [
        "## df['Adj Close'] - line plot"
      ]
    },
    {
      "cell_type": "code",
      "metadata": {
        "id": "5t179cExdF-z",
        "colab": {
          "base_uri": "https://localhost:8080/",
          "height": 295
        },
        "outputId": "f7376629-10f1-4fe5-e1b7-870144bc6295"
      },
      "source": [
        "# make a line plot with matplotlib\n",
        "fig, ax = plt.subplots()\n",
        "line1 = ax.plot(df['Adj Close'], '--', linewidth=2)\n",
        "ax.set_title('AAPL (1980 - present)')\n",
        "ax.set_xlabel('Date Index')\n",
        "ax.set_ylabel('Adj Close ($)')\n",
        "plt.show()"
      ],
      "execution_count": null,
      "outputs": [
        {
          "output_type": "display_data",
          "data": {
            "image/png": "[encoded data removed]",
            "text/plain": [
              "<Figure size 432x288 with 1 Axes>"
            ]
          },
          "metadata": {
            "tags": [],
            "needs_background": "light"
          }
        }
      ]
    },
    {
      "cell_type": "code",
      "metadata": {
        "colab": {
          "base_uri": "https://localhost:8080/",
          "height": 285
        },
        "id": "e6lt3DHjYctA",
        "outputId": "3d64c551-7603-4d0b-f258-ac83aded252d"
      },
      "source": [
        "# make a line plot with pandas (controls matplotlib behind the scenes)\n",
        "df.plot.line(x = 'Date', y = 'Adj Close', linewidth=2, style='--')\n",
        "plt.title('AAPL (1980 - present)')\n",
        "plt.xlabel('Date Index')\n",
        "plt.ylabel('Adj Close ($)')\n",
        "plt.show()"
      ],
      "execution_count": null,
      "outputs": [
        {
          "output_type": "display_data",
          "data": {
            "image/png": "[encoded data removed]",
            "text/plain": [
              "<Figure size 432x288 with 1 Axes>"
            ]
          },
          "metadata": {
            "tags": [],
            "needs_background": "light"
          }
        }
      ]
    },
    {
      "cell_type": "markdown",
      "metadata": {
        "id": "aOnbX2mGZ099"
      },
      "source": [
        "A small cosmetic note - df.plot.line() makes a LINE plot, and df.plot.scatter() makes a SCATTERPLOT. You can connect the lines on a line plot, but not on a scatterplot if you are using `pandas`."
      ]
    },
    {
      "cell_type": "markdown",
      "metadata": {
        "id": "6VjENUrZZQmM"
      },
      "source": [
        "## df['PctChange'] - line plot"
      ]
    },
    {
      "cell_type": "code",
      "metadata": {
        "colab": {
          "base_uri": "https://localhost:8080/",
          "height": 295
        },
        "id": "nr_BqPSNZQmM",
        "outputId": "df8438bc-2ee4-4e37-df88-ed6400362d78"
      },
      "source": [
        "# make a line plot with matplotlib\n",
        "fig, ax = plt.subplots()\n",
        "line1 = ax.plot(df['PctChange'], '--', linewidth=2)\n",
        "ax.set_title('AAPL (1980 - present)')\n",
        "ax.set_xlabel('Date Index')\n",
        "ax.set_ylabel('Pct Change (%)')\n",
        "plt.show()"
      ],
      "execution_count": null,
      "outputs": [
        {
          "output_type": "display_data",
          "data": {
            "image/png": "[encoded data removed]",
            "text/plain": [
              "<Figure size 432x288 with 1 Axes>"
            ]
          },
          "metadata": {
            "tags": [],
            "needs_background": "light"
          }
        }
      ]
    },
    {
      "cell_type": "code",
      "metadata": {
        "colab": {
          "base_uri": "https://localhost:8080/",
          "height": 285
        },
        "id": "aMdAhWYBZQmM",
        "outputId": "314effa5-0a53-4660-f0a3-8c887471bfc6"
      },
      "source": [
        "# make a line plot with pandas (controls matplotlib behind the scenes)\n",
        "df.plot.line(x = 'Date', y = 'PctChange', linewidth=2)\n",
        "plt.title('AAPL (1980 - present)')\n",
        "plt.xlabel('Date Index')\n",
        "plt.ylabel('PctChange (%)')\n",
        "plt.show()"
      ],
      "execution_count": null,
      "outputs": [
        {
          "output_type": "display_data",
          "data": {
            "image/png": "[encoded data removed]",
            "text/plain": [
              "<Figure size 432x288 with 1 Axes>"
            ]
          },
          "metadata": {
            "tags": [],
            "needs_background": "light"
          }
        }
      ]
    },
    {
      "cell_type": "markdown",
      "metadata": {
        "id": "qP5NylfgaH7_"
      },
      "source": [
        "## Grouped Histogram\n",
        "Let's see if day of week has any bearing on how stock prices change (for AAPL).\n",
        "\n",
        "`seaborn` is another plotting library you may enjoy - the syntax can be much easier (just like `plotly`). Try this out!"
      ]
    },
    {
      "cell_type": "code",
      "metadata": {
        "id": "tcru3qOZbf9k"
      },
      "source": [
        "# import modules\n",
        "import seaborn as sns"
      ],
      "execution_count": null,
      "outputs": []
    },
    {
      "cell_type": "code",
      "metadata": {
        "colab": {
          "base_uri": "https://localhost:8080/",
          "height": 279
        },
        "id": "CDMEZXRmad6l",
        "outputId": "edf72e5d-a0aa-4dc2-d9aa-b44b6f656d57"
      },
      "source": [
        "sns.boxplot(y='PctChange', x='DayOfWeek',\n",
        "                 data=df,\n",
        "                 palette=\"colorblind\")\n",
        "plt.show() # get rid of extra text"
      ],
      "execution_count": null,
      "outputs": [
        {
          "output_type": "display_data",
          "data": {
            "image/png": "[encoded data removed]",
            "text/plain": [
              "<Figure size 432x288 with 1 Axes>"
            ]
          },
          "metadata": {
            "tags": [],
            "needs_background": "light"
          }
        }
      ]
    },
    {
      "cell_type": "markdown",
      "metadata": {
        "id": "_be4eETvcC3E"
      },
      "source": [
        "This is a little tough to see right away... but we will find an easier way shortly with the `sign` function! At least we can see more general trends than `pct_change`."
      ]
    },
    {
      "cell_type": "code",
      "metadata": {
        "colab": {
          "base_uri": "https://localhost:8080/",
          "height": 313
        },
        "id": "XgCTjxSkiSen",
        "outputId": "ba0a0b7b-b370-40d8-daa2-da6a46058fe6"
      },
      "source": [
        "# summary stats be group\n",
        "g= df.groupby('DayOfWeek').describe()\n",
        "g"
      ],
      "execution_count": null,
      "outputs": [
        {
          "output_type": "execute_result",
          "data": {
            "text/html": [
              "<div>\n",
              "<style scoped>\n",
              "    .dataframe tbody tr th:only-of-type {\n",
              "        vertical-align: middle;\n",
              "    }\n",
              "\n",
              "    .dataframe tbody tr th {\n",
              "        vertical-align: top;\n",
              "    }\n",
              "\n",
              "    .dataframe thead tr th {\n",
              "        text-align: left;\n",
              "    }\n",
              "\n",
              "    .dataframe thead tr:last-of-type th {\n",
              "        text-align: right;\n",
              "    }\n",
              "</style>\n",
              "<table border=\"1\" class=\"dataframe\">\n",
              "  <thead>\n",
              "    <tr>\n",
              "      <th></th>\n",
              "      <th colspan=\"8\" halign=\"left\">Open</th>\n",
              "      <th colspan=\"8\" halign=\"left\">High</th>\n",
              "      <th colspan=\"8\" halign=\"left\">Low</th>\n",
              "      <th colspan=\"8\" halign=\"left\">Close</th>\n",
              "      <th colspan=\"8\" halign=\"left\">Adj Close</th>\n",
              "      <th>...</th>\n",
              "      <th colspan=\"8\" halign=\"left\">Month</th>\n",
              "      <th colspan=\"8\" halign=\"left\">Day</th>\n",
              "      <th colspan=\"8\" halign=\"left\">Year</th>\n",
              "      <th colspan=\"8\" halign=\"left\">RawChange</th>\n",
              "      <th colspan=\"8\" halign=\"left\">PctChange</th>\n",
              "    </tr>\n",
              "    <tr>\n",
              "      <th></th>\n",
              "      <th>count</th>\n",
              "      <th>mean</th>\n",
              "      <th>std</th>\n",
              "      <th>min</th>\n",
              "      <th>25%</th>\n",
              "      <th>50%</th>\n",
              "      <th>75%</th>\n",
              "      <th>max</th>\n",
              "      <th>count</th>\n",
              "      <th>mean</th>\n",
              "      <th>std</th>\n",
              "      <th>min</th>\n",
              "      <th>25%</th>\n",
              "      <th>50%</th>\n",
              "      <th>75%</th>\n",
              "      <th>max</th>\n",
              "      <th>count</th>\n",
              "      <th>mean</th>\n",
              "      <th>std</th>\n",
              "      <th>min</th>\n",
              "      <th>25%</th>\n",
              "      <th>50%</th>\n",
              "      <th>75%</th>\n",
              "      <th>max</th>\n",
              "      <th>count</th>\n",
              "      <th>mean</th>\n",
              "      <th>std</th>\n",
              "      <th>min</th>\n",
              "      <th>25%</th>\n",
              "      <th>50%</th>\n",
              "      <th>75%</th>\n",
              "      <th>max</th>\n",
              "      <th>count</th>\n",
              "      <th>mean</th>\n",
              "      <th>std</th>\n",
              "      <th>min</th>\n",
              "      <th>25%</th>\n",
              "      <th>50%</th>\n",
              "      <th>75%</th>\n",
              "      <th>max</th>\n",
              "      <th>...</th>\n",
              "      <th>count</th>\n",
              "      <th>mean</th>\n",
              "      <th>std</th>\n",
              "      <th>min</th>\n",
              "      <th>25%</th>\n",
              "      <th>50%</th>\n",
              "      <th>75%</th>\n",
              "      <th>max</th>\n",
              "      <th>count</th>\n",
              "      <th>mean</th>\n",
              "      <th>std</th>\n",
              "      <th>min</th>\n",
              "      <th>25%</th>\n",
              "      <th>50%</th>\n",
              "      <th>75%</th>\n",
              "      <th>max</th>\n",
              "      <th>count</th>\n",
              "      <th>mean</th>\n",
              "      <th>std</th>\n",
              "      <th>min</th>\n",
              "      <th>25%</th>\n",
              "      <th>50%</th>\n",
              "      <th>75%</th>\n",
              "      <th>max</th>\n",
              "      <th>count</th>\n",
              "      <th>mean</th>\n",
              "      <th>std</th>\n",
              "      <th>min</th>\n",
              "      <th>25%</th>\n",
              "      <th>50%</th>\n",
              "      <th>75%</th>\n",
              "      <th>max</th>\n",
              "      <th>count</th>\n",
              "      <th>mean</th>\n",
              "      <th>std</th>\n",
              "      <th>min</th>\n",
              "      <th>25%</th>\n",
              "      <th>50%</th>\n",
              "      <th>75%</th>\n",
              "      <th>max</th>\n",
              "    </tr>\n",
              "    <tr>\n",
              "      <th>DayOfWeek</th>\n",
              "      <th></th>\n",
              "      <th></th>\n",
              "      <th></th>\n",
              "      <th></th>\n",
              "      <th></th>\n",
              "      <th></th>\n",
              "      <th></th>\n",
              "      <th></th>\n",
              "      <th></th>\n",
              "      <th></th>\n",
              "      <th></th>\n",
              "      <th></th>\n",
              "      <th></th>\n",
              "      <th></th>\n",
              "      <th></th>\n",
              "      <th></th>\n",
              "      <th></th>\n",
              "      <th></th>\n",
              "      <th></th>\n",
              "      <th></th>\n",
              "      <th></th>\n",
              "      <th></th>\n",
              "      <th></th>\n",
              "      <th></th>\n",
              "      <th></th>\n",
              "      <th></th>\n",
              "      <th></th>\n",
              "      <th></th>\n",
              "      <th></th>\n",
              "      <th></th>\n",
              "      <th></th>\n",
              "      <th></th>\n",
              "      <th></th>\n",
              "      <th></th>\n",
              "      <th></th>\n",
              "      <th></th>\n",
              "      <th></th>\n",
              "      <th></th>\n",
              "      <th></th>\n",
              "      <th></th>\n",
              "      <th></th>\n",
              "      <th></th>\n",
              "      <th></th>\n",
              "      <th></th>\n",
              "      <th></th>\n",
              "      <th></th>\n",
              "      <th></th>\n",
              "      <th></th>\n",
              "      <th></th>\n",
              "      <th></th>\n",
              "      <th></th>\n",
              "      <th></th>\n",
              "      <th></th>\n",
              "      <th></th>\n",
              "      <th></th>\n",
              "      <th></th>\n",
              "      <th></th>\n",
              "      <th></th>\n",
              "      <th></th>\n",
              "      <th></th>\n",
              "      <th></th>\n",
              "      <th></th>\n",
              "      <th></th>\n",
              "      <th></th>\n",
              "      <th></th>\n",
              "      <th></th>\n",
              "      <th></th>\n",
              "      <th></th>\n",
              "      <th></th>\n",
              "      <th></th>\n",
              "      <th></th>\n",
              "      <th></th>\n",
              "      <th></th>\n",
              "      <th></th>\n",
              "      <th></th>\n",
              "      <th></th>\n",
              "      <th></th>\n",
              "      <th></th>\n",
              "      <th></th>\n",
              "      <th></th>\n",
              "      <th></th>\n",
              "    </tr>\n",
              "  </thead>\n",
              "  <tbody>\n",
              "    <tr>\n",
              "      <th>Friday</th>\n",
              "      <td>1968.0</td>\n",
              "      <td>31.164899</td>\n",
              "      <td>55.002041</td>\n",
              "      <td>0.203125</td>\n",
              "      <td>1.062500</td>\n",
              "      <td>1.723214</td>\n",
              "      <td>34.501430</td>\n",
              "      <td>291.119995</td>\n",
              "      <td>1968.0</td>\n",
              "      <td>31.425796</td>\n",
              "      <td>55.433974</td>\n",
              "      <td>0.205357</td>\n",
              "      <td>1.089286</td>\n",
              "      <td>1.750000</td>\n",
              "      <td>34.726072</td>\n",
              "      <td>293.970001</td>\n",
              "      <td>1968.0</td>\n",
              "      <td>30.851188</td>\n",
              "      <td>54.516755</td>\n",
              "      <td>0.203125</td>\n",
              "      <td>1.046250</td>\n",
              "      <td>1.671607</td>\n",
              "      <td>33.200356</td>\n",
              "      <td>288.119995</td>\n",
              "      <td>1968.0</td>\n",
              "      <td>31.134589</td>\n",
              "      <td>54.981643</td>\n",
              "      <td>0.203125</td>\n",
              "      <td>1.071429</td>\n",
              "      <td>1.717589</td>\n",
              "      <td>34.523214</td>\n",
              "      <td>289.799988</td>\n",
              "      <td>1968.0</td>\n",
              "      <td>29.152025</td>\n",
              "      <td>53.213320</td>\n",
              "      <td>0.161326</td>\n",
              "      <td>0.918998</td>\n",
              "      <td>1.445650</td>\n",
              "      <td>30.038684</td>\n",
              "      <td>289.799988</td>\n",
              "      <td>...</td>\n",
              "      <td>1968.0</td>\n",
              "      <td>6.566057</td>\n",
              "      <td>3.452298</td>\n",
              "      <td>1.0</td>\n",
              "      <td>4.0</td>\n",
              "      <td>7.0</td>\n",
              "      <td>10.0</td>\n",
              "      <td>12.0</td>\n",
              "      <td>1968.0</td>\n",
              "      <td>15.800813</td>\n",
              "      <td>8.747544</td>\n",
              "      <td>1.0</td>\n",
              "      <td>8.0</td>\n",
              "      <td>16.0</td>\n",
              "      <td>23.0</td>\n",
              "      <td>31.0</td>\n",
              "      <td>1968.0</td>\n",
              "      <td>1999.996951</td>\n",
              "      <td>11.276936</td>\n",
              "      <td>1980.0</td>\n",
              "      <td>1990.0</td>\n",
              "      <td>2000.0</td>\n",
              "      <td>2010.0</td>\n",
              "      <td>2019.0</td>\n",
              "      <td>1967.0</td>\n",
              "      <td>-0.020062</td>\n",
              "      <td>0.965489</td>\n",
              "      <td>-14.471344</td>\n",
              "      <td>-0.032188</td>\n",
              "      <td>0.000000</td>\n",
              "      <td>0.029562</td>\n",
              "      <td>7.520370</td>\n",
              "      <td>1967.0</td>\n",
              "      <td>-0.000735</td>\n",
              "      <td>0.029563</td>\n",
              "      <td>-0.518692</td>\n",
              "      <td>-0.013182</td>\n",
              "      <td>0.000000</td>\n",
              "      <td>0.011595</td>\n",
              "      <td>0.238094</td>\n",
              "    </tr>\n",
              "    <tr>\n",
              "      <th>Monday</th>\n",
              "      <td>1864.0</td>\n",
              "      <td>30.836672</td>\n",
              "      <td>54.897120</td>\n",
              "      <td>0.207589</td>\n",
              "      <td>1.061250</td>\n",
              "      <td>1.694643</td>\n",
              "      <td>30.422500</td>\n",
              "      <td>289.459991</td>\n",
              "      <td>1864.0</td>\n",
              "      <td>31.174626</td>\n",
              "      <td>55.435572</td>\n",
              "      <td>0.209821</td>\n",
              "      <td>1.078571</td>\n",
              "      <td>1.733928</td>\n",
              "      <td>30.583928</td>\n",
              "      <td>292.690002</td>\n",
              "      <td>1864.0</td>\n",
              "      <td>30.548849</td>\n",
              "      <td>54.449084</td>\n",
              "      <td>0.207589</td>\n",
              "      <td>1.042723</td>\n",
              "      <td>1.660357</td>\n",
              "      <td>30.043214</td>\n",
              "      <td>285.220001</td>\n",
              "      <td>1864.0</td>\n",
              "      <td>30.893062</td>\n",
              "      <td>55.001367</td>\n",
              "      <td>0.207589</td>\n",
              "      <td>1.060714</td>\n",
              "      <td>1.711429</td>\n",
              "      <td>30.315714</td>\n",
              "      <td>291.519989</td>\n",
              "      <td>1864.0</td>\n",
              "      <td>28.922539</td>\n",
              "      <td>53.228973</td>\n",
              "      <td>0.164872</td>\n",
              "      <td>0.908117</td>\n",
              "      <td>1.452775</td>\n",
              "      <td>26.377731</td>\n",
              "      <td>291.519989</td>\n",
              "      <td>...</td>\n",
              "      <td>1864.0</td>\n",
              "      <td>6.668991</td>\n",
              "      <td>3.418145</td>\n",
              "      <td>1.0</td>\n",
              "      <td>4.0</td>\n",
              "      <td>7.0</td>\n",
              "      <td>10.0</td>\n",
              "      <td>12.0</td>\n",
              "      <td>1864.0</td>\n",
              "      <td>15.741416</td>\n",
              "      <td>8.696016</td>\n",
              "      <td>1.0</td>\n",
              "      <td>8.0</td>\n",
              "      <td>15.5</td>\n",
              "      <td>23.0</td>\n",
              "      <td>31.0</td>\n",
              "      <td>1864.0</td>\n",
              "      <td>1999.873391</td>\n",
              "      <td>11.280737</td>\n",
              "      <td>1980.0</td>\n",
              "      <td>1990.0</td>\n",
              "      <td>2000.0</td>\n",
              "      <td>2010.0</td>\n",
              "      <td>2019.0</td>\n",
              "      <td>1864.0</td>\n",
              "      <td>0.073134</td>\n",
              "      <td>0.993321</td>\n",
              "      <td>-11.382431</td>\n",
              "      <td>-0.024819</td>\n",
              "      <td>0.001773</td>\n",
              "      <td>0.047235</td>\n",
              "      <td>7.631027</td>\n",
              "      <td>1864.0</td>\n",
              "      <td>0.001467</td>\n",
              "      <td>0.028476</td>\n",
              "      <td>-0.243523</td>\n",
              "      <td>-0.013606</td>\n",
              "      <td>0.001513</td>\n",
              "      <td>0.016871</td>\n",
              "      <td>0.139050</td>\n",
              "    </tr>\n",
              "    <tr>\n",
              "      <th>Thursday</th>\n",
              "      <td>1980.0</td>\n",
              "      <td>31.088538</td>\n",
              "      <td>54.898971</td>\n",
              "      <td>0.198661</td>\n",
              "      <td>1.073392</td>\n",
              "      <td>1.724464</td>\n",
              "      <td>34.023928</td>\n",
              "      <td>296.239990</td>\n",
              "      <td>1980.0</td>\n",
              "      <td>31.362037</td>\n",
              "      <td>55.345244</td>\n",
              "      <td>0.198661</td>\n",
              "      <td>1.092634</td>\n",
              "      <td>1.758929</td>\n",
              "      <td>34.204643</td>\n",
              "      <td>300.600006</td>\n",
              "      <td>1980.0</td>\n",
              "      <td>30.769013</td>\n",
              "      <td>54.426093</td>\n",
              "      <td>0.196429</td>\n",
              "      <td>1.051183</td>\n",
              "      <td>1.690223</td>\n",
              "      <td>32.553573</td>\n",
              "      <td>295.190002</td>\n",
              "      <td>1980.0</td>\n",
              "      <td>31.072188</td>\n",
              "      <td>54.911950</td>\n",
              "      <td>0.196429</td>\n",
              "      <td>1.064375</td>\n",
              "      <td>1.737857</td>\n",
              "      <td>33.773928</td>\n",
              "      <td>300.350006</td>\n",
              "      <td>1980.0</td>\n",
              "      <td>29.083164</td>\n",
              "      <td>53.130632</td>\n",
              "      <td>0.156008</td>\n",
              "      <td>0.913606</td>\n",
              "      <td>1.468139</td>\n",
              "      <td>29.386730</td>\n",
              "      <td>300.350006</td>\n",
              "      <td>...</td>\n",
              "      <td>1980.0</td>\n",
              "      <td>6.435354</td>\n",
              "      <td>3.419376</td>\n",
              "      <td>1.0</td>\n",
              "      <td>3.0</td>\n",
              "      <td>6.0</td>\n",
              "      <td>9.0</td>\n",
              "      <td>12.0</td>\n",
              "      <td>1980.0</td>\n",
              "      <td>15.606061</td>\n",
              "      <td>8.754952</td>\n",
              "      <td>1.0</td>\n",
              "      <td>8.0</td>\n",
              "      <td>15.0</td>\n",
              "      <td>23.0</td>\n",
              "      <td>31.0</td>\n",
              "      <td>1980.0</td>\n",
              "      <td>1999.988384</td>\n",
              "      <td>11.272560</td>\n",
              "      <td>1980.0</td>\n",
              "      <td>1990.0</td>\n",
              "      <td>2000.0</td>\n",
              "      <td>2010.0</td>\n",
              "      <td>2020.0</td>\n",
              "      <td>1980.0</td>\n",
              "      <td>0.007635</td>\n",
              "      <td>0.894994</td>\n",
              "      <td>-15.497147</td>\n",
              "      <td>-0.032560</td>\n",
              "      <td>0.000000</td>\n",
              "      <td>0.036901</td>\n",
              "      <td>6.856674</td>\n",
              "      <td>1980.0</td>\n",
              "      <td>0.001408</td>\n",
              "      <td>0.028487</td>\n",
              "      <td>-0.123558</td>\n",
              "      <td>-0.012719</td>\n",
              "      <td>0.000000</td>\n",
              "      <td>0.014169</td>\n",
              "      <td>0.237037</td>\n",
              "    </tr>\n",
              "    <tr>\n",
              "      <th>Tuesday</th>\n",
              "      <td>2018.0</td>\n",
              "      <td>30.950550</td>\n",
              "      <td>54.828185</td>\n",
              "      <td>0.207589</td>\n",
              "      <td>1.062500</td>\n",
              "      <td>1.714286</td>\n",
              "      <td>32.182144</td>\n",
              "      <td>289.929993</td>\n",
              "      <td>2018.0</td>\n",
              "      <td>31.261218</td>\n",
              "      <td>55.321293</td>\n",
              "      <td>0.207589</td>\n",
              "      <td>1.086786</td>\n",
              "      <td>1.742367</td>\n",
              "      <td>32.547858</td>\n",
              "      <td>293.679993</td>\n",
              "      <td>2018.0</td>\n",
              "      <td>30.650023</td>\n",
              "      <td>54.384857</td>\n",
              "      <td>0.205357</td>\n",
              "      <td>1.040179</td>\n",
              "      <td>1.678571</td>\n",
              "      <td>31.957500</td>\n",
              "      <td>289.519989</td>\n",
              "      <td>2018.0</td>\n",
              "      <td>30.963159</td>\n",
              "      <td>54.863266</td>\n",
              "      <td>0.205357</td>\n",
              "      <td>1.062500</td>\n",
              "      <td>1.709107</td>\n",
              "      <td>32.483213</td>\n",
              "      <td>293.649994</td>\n",
              "      <td>2018.0</td>\n",
              "      <td>28.979737</td>\n",
              "      <td>53.075717</td>\n",
              "      <td>0.163099</td>\n",
              "      <td>0.913023</td>\n",
              "      <td>1.456657</td>\n",
              "      <td>28.263676</td>\n",
              "      <td>293.649994</td>\n",
              "      <td>...</td>\n",
              "      <td>2018.0</td>\n",
              "      <td>6.529732</td>\n",
              "      <td>3.441610</td>\n",
              "      <td>1.0</td>\n",
              "      <td>4.0</td>\n",
              "      <td>7.0</td>\n",
              "      <td>10.0</td>\n",
              "      <td>12.0</td>\n",
              "      <td>2018.0</td>\n",
              "      <td>15.784440</td>\n",
              "      <td>8.764682</td>\n",
              "      <td>1.0</td>\n",
              "      <td>8.0</td>\n",
              "      <td>16.0</td>\n",
              "      <td>23.0</td>\n",
              "      <td>31.0</td>\n",
              "      <td>2018.0</td>\n",
              "      <td>1999.948959</td>\n",
              "      <td>11.278064</td>\n",
              "      <td>1980.0</td>\n",
              "      <td>1990.0</td>\n",
              "      <td>2000.0</td>\n",
              "      <td>2010.0</td>\n",
              "      <td>2019.0</td>\n",
              "      <td>2018.0</td>\n",
              "      <td>0.032542</td>\n",
              "      <td>0.840681</td>\n",
              "      <td>-8.748535</td>\n",
              "      <td>-0.028365</td>\n",
              "      <td>0.000000</td>\n",
              "      <td>0.040689</td>\n",
              "      <td>8.464600</td>\n",
              "      <td>2018.0</td>\n",
              "      <td>0.000962</td>\n",
              "      <td>0.027445</td>\n",
              "      <td>-0.148812</td>\n",
              "      <td>-0.013786</td>\n",
              "      <td>0.000000</td>\n",
              "      <td>0.015261</td>\n",
              "      <td>0.192913</td>\n",
              "    </tr>\n",
              "    <tr>\n",
              "      <th>Wednesday</th>\n",
              "      <td>2017.0</td>\n",
              "      <td>30.813705</td>\n",
              "      <td>54.344982</td>\n",
              "      <td>0.205357</td>\n",
              "      <td>1.071429</td>\n",
              "      <td>1.705357</td>\n",
              "      <td>32.128571</td>\n",
              "      <td>279.799988</td>\n",
              "      <td>2017.0</td>\n",
              "      <td>31.112621</td>\n",
              "      <td>54.825504</td>\n",
              "      <td>0.207589</td>\n",
              "      <td>1.089286</td>\n",
              "      <td>1.749286</td>\n",
              "      <td>32.349998</td>\n",
              "      <td>281.899994</td>\n",
              "      <td>2017.0</td>\n",
              "      <td>30.511617</td>\n",
              "      <td>53.889716</td>\n",
              "      <td>0.205357</td>\n",
              "      <td>1.046429</td>\n",
              "      <td>1.678571</td>\n",
              "      <td>31.895714</td>\n",
              "      <td>279.119995</td>\n",
              "      <td>2017.0</td>\n",
              "      <td>30.822620</td>\n",
              "      <td>54.385991</td>\n",
              "      <td>0.205357</td>\n",
              "      <td>1.072857</td>\n",
              "      <td>1.719286</td>\n",
              "      <td>32.119999</td>\n",
              "      <td>279.739990</td>\n",
              "      <td>2017.0</td>\n",
              "      <td>28.829813</td>\n",
              "      <td>52.569208</td>\n",
              "      <td>0.163099</td>\n",
              "      <td>0.927900</td>\n",
              "      <td>1.462276</td>\n",
              "      <td>27.947645</td>\n",
              "      <td>279.739990</td>\n",
              "      <td>...</td>\n",
              "      <td>2017.0</td>\n",
              "      <td>6.524541</td>\n",
              "      <td>3.441478</td>\n",
              "      <td>1.0</td>\n",
              "      <td>4.0</td>\n",
              "      <td>7.0</td>\n",
              "      <td>10.0</td>\n",
              "      <td>12.0</td>\n",
              "      <td>2017.0</td>\n",
              "      <td>15.788299</td>\n",
              "      <td>8.766781</td>\n",
              "      <td>1.0</td>\n",
              "      <td>8.0</td>\n",
              "      <td>16.0</td>\n",
              "      <td>23.0</td>\n",
              "      <td>31.0</td>\n",
              "      <td>2017.0</td>\n",
              "      <td>1999.958850</td>\n",
              "      <td>11.269815</td>\n",
              "      <td>1980.0</td>\n",
              "      <td>1990.0</td>\n",
              "      <td>2000.0</td>\n",
              "      <td>2010.0</td>\n",
              "      <td>2019.0</td>\n",
              "      <td>2017.0</td>\n",
              "      <td>0.060632</td>\n",
              "      <td>1.038423</td>\n",
              "      <td>-10.318436</td>\n",
              "      <td>-0.026103</td>\n",
              "      <td>0.001773</td>\n",
              "      <td>0.042884</td>\n",
              "      <td>10.967224</td>\n",
              "      <td>2017.0</td>\n",
              "      <td>0.002328</td>\n",
              "      <td>0.029095</td>\n",
              "      <td>-0.171713</td>\n",
              "      <td>-0.012719</td>\n",
              "      <td>0.000256</td>\n",
              "      <td>0.016510</td>\n",
              "      <td>0.332279</td>\n",
              "    </tr>\n",
              "  </tbody>\n",
              "</table>\n",
              "<p>5 rows × 88 columns</p>\n",
              "</div>"
            ],
            "text/plain": [
              "             Open                        ... PctChange                    \n",
              "            count       mean        std  ...       50%       75%       max\n",
              "DayOfWeek                                ...                              \n",
              "Friday     1968.0  31.164899  55.002041  ...  0.000000  0.011595  0.238094\n",
              "Monday     1864.0  30.836672  54.897120  ...  0.001513  0.016871  0.139050\n",
              "Thursday   1980.0  31.088538  54.898971  ...  0.000000  0.014169  0.237037\n",
              "Tuesday    2018.0  30.950550  54.828185  ...  0.000000  0.015261  0.192913\n",
              "Wednesday  2017.0  30.813705  54.344982  ...  0.000256  0.016510  0.332279\n",
              "\n",
              "[5 rows x 88 columns]"
            ]
          },
          "metadata": {
            "tags": []
          },
          "execution_count": 23
        }
      ]
    },
    {
      "cell_type": "markdown",
      "metadata": {
        "id": "DhgxCBUFZmIJ"
      },
      "source": [
        "## Plotting Data for a Specified Time Range\n",
        "Let's try to look at a month of data"
      ]
    },
    {
      "cell_type": "markdown",
      "metadata": {
        "id": "C1G4RnQtcTI-"
      },
      "source": [
        "### December 2019 only\n",
        "Subset December 2019 and plot."
      ]
    },
    {
      "cell_type": "code",
      "metadata": {
        "id": "p9BlmnCEfAIC",
        "colab": {
          "base_uri": "https://localhost:8080/",
          "height": 320
        },
        "outputId": "3b604c8b-d7dd-46d7-9289-b2415474d161"
      },
      "source": [
        "# some more dates functionality\n",
        "import matplotlib.pyplot as plt\n",
        "import matplotlib.dates as mdates\n",
        "\n",
        "# subset just december 2019\n",
        "dec2019 = df[(df['Date'] >= '2019-12-01') & (df['Date'] <= '2019-12-31')]\n",
        "# show it as a scatterplot\n",
        "fig, ax = plt.subplots()\n",
        "ax.scatter(y=dec2019[\"Adj Close\"], x=dec2019[\"Date\"])\n",
        "ax.set_title(\"APPL: December 2019\")\n",
        "plt.xticks(\n",
        "    rotation=45,\n",
        "    horizontalalignment='right',\n",
        "    fontweight='light',\n",
        "    fontsize='medium',\n",
        ")\n",
        "plt.show()"
      ],
      "execution_count": null,
      "outputs": [
        {
          "output_type": "display_data",
          "data": {
            "image/png": "[encoded data removed]",
            "text/plain": [
              "<Figure size 432x288 with 1 Axes>"
            ]
          },
          "metadata": {
            "tags": [],
            "needs_background": "light"
          }
        }
      ]
    },
    {
      "cell_type": "markdown",
      "metadata": {
        "id": "RZAU8RCKcVYs"
      },
      "source": [
        "### November 2019 only\n",
        "Subset November 2019 data only and plot it.\n",
        "\n",
        "Same code as before, just change the color and some variable names!"
      ]
    },
    {
      "cell_type": "code",
      "metadata": {
        "id": "rNBalZ44fMfP",
        "colab": {
          "base_uri": "https://localhost:8080/",
          "height": 287
        },
        "outputId": "e7441c88-72fb-43a4-b1ca-f482d510c70b"
      },
      "source": [
        "# subset just nov 2019 (try it on your own?)\n",
        "nov2019 = df[(df['Date'] >= '2019-11-01') & (df['Date'] <= '2019-11-30')]\n",
        "# show it as a scatterplot\n",
        "fig, ax = plt.subplots()\n",
        "ax.scatter(y=nov2019[\"Adj Close\"], x=nov2019[\"Date\"], color=\"orange\")\n",
        "ax.set_title(\"APPL: November 2019\")\n",
        "# beautify the x-labels\n",
        "plt.gcf().autofmt_xdate()\n",
        "plt.show()"
      ],
      "execution_count": null,
      "outputs": [
        {
          "output_type": "display_data",
          "data": {
            "image/png": "[encoded data removed]",
            "text/plain": [
              "<Figure size 432x288 with 1 Axes>"
            ]
          },
          "metadata": {
            "tags": [],
            "needs_background": "light"
          }
        }
      ]
    },
    {
      "cell_type": "markdown",
      "metadata": {
        "id": "EB7VVGg0lN64"
      },
      "source": [
        "### Subplots (Side by Side)"
      ]
    },
    {
      "cell_type": "markdown",
      "metadata": {
        "id": "CxhtKmPCefHb"
      },
      "source": [
        "First, we can show an example with 'Date' as the X axis. I think it looks a little cramped..."
      ]
    },
    {
      "cell_type": "code",
      "metadata": {
        "id": "hyCtSBo7gXg9",
        "colab": {
          "base_uri": "https://localhost:8080/",
          "height": 297
        },
        "outputId": "f60d174c-385a-4419-bbf8-cc47bc6d6827"
      },
      "source": [
        "# plots side by side\n",
        "import numpy as np\n",
        "import matplotlib.pyplot as plt\n",
        "\n",
        "\n",
        "plt.subplot(1, 2, 1) # 1 row, 2 columns, 1st plot\n",
        "plt.plot(nov2019[\"Date\"], nov2019[\"Adj Close\"], 'ko-', color=\"cornflowerblue\")\n",
        "plt.title('AAPL: November 2019')\n",
        "plt.ylabel('Adj Close ($)')\n",
        "plt.xlabel('Date')\n",
        "plt.gcf().autofmt_xdate()\n",
        "\n",
        "plt.subplot(1, 2, 2) # 1 row, 2 columns, 2nd plot\n",
        "plt.plot(dec2019[\"Date\"], dec2019[\"Adj Close\"], 'ko-', color=\"orange\")\n",
        "plt.title('AAPL: December 2019')\n",
        "plt.ylabel('Adj Close ($)')\n",
        "plt.xlabel('Date')\n",
        "ax.format_xdata = mdates.DateFormatter('%d')\n",
        "plt.gcf().autofmt_xdate()\n",
        "\n",
        "# limit the overlap!\n",
        "plt.tight_layout()\n",
        "plt.show()"
      ],
      "execution_count": null,
      "outputs": [
        {
          "output_type": "display_data",
          "data": {
            "image/png": "[encoded data removed]",
            "text/plain": [
              "<Figure size 432x288 with 2 Axes>"
            ]
          },
          "metadata": {
            "tags": [],
            "needs_background": "light"
          }
        }
      ]
    },
    {
      "cell_type": "markdown",
      "metadata": {
        "id": "nO3B3CMGelGj"
      },
      "source": [
        "Since we are dealing with a month of data, why not just use the 'Day' column we generated earlier on? Looks cleaner."
      ]
    },
    {
      "cell_type": "code",
      "metadata": {
        "id": "XgKGBXpaRD5u",
        "colab": {
          "base_uri": "https://localhost:8080/",
          "height": 297
        },
        "outputId": "bae8fe6e-eed0-4730-c01d-291df4c98533"
      },
      "source": [
        "# now look at our labels\n",
        "# plots side by side\n",
        "import numpy as np\n",
        "import matplotlib.pyplot as plt\n",
        "\n",
        "# subset months for 2019\n",
        "nov2019 = df[(df['Date'] >= '2019-11-01') & (df['Date'] <= '2019-11-30')]\n",
        "dec2019 = df[(df['Date'] >= '2019-12-01') & (df['Date'] <= '2019-12-31')]\n",
        "\n",
        "plt.subplot(1, 2, 1)\n",
        "plt.plot(nov2019['Day'], nov2019[\"Adj Close\"], 'ko-', color=\"cornflowerblue\")\n",
        "plt.title('AAPL: November 2019')\n",
        "plt.ylabel('Adj Close ($)')\n",
        "plt.xlabel('Day')\n",
        "plt.gcf().autofmt_xdate()\n",
        "\n",
        "plt.subplot(1, 2, 2)\n",
        "plt.plot(dec2019['Day'], dec2019[\"Adj Close\"],  'ko-', color=\"orange\")\n",
        "plt.title('AAPL: December 2019')\n",
        "plt.ylabel('Adj Close ($)')\n",
        "plt.xlabel('Day')\n",
        "ax.format_xdata = mdates.DateFormatter('%d')\n",
        "plt.gcf().autofmt_xdate()\n",
        "\n",
        "# limit the overlap!\n",
        "plt.tight_layout()\n",
        "plt.show()\n"
      ],
      "execution_count": null,
      "outputs": [
        {
          "output_type": "display_data",
          "data": {
            "image/png": "[encoded data removed]",
            "text/plain": [
              "<Figure size 432x288 with 2 Axes>"
            ]
          },
          "metadata": {
            "tags": [],
            "needs_background": "light"
          }
        }
      ]
    },
    {
      "cell_type": "markdown",
      "metadata": {
        "id": "WON6eupBdLV_"
      },
      "source": [
        "If you are looking for some more customization for dates and other time series data, check out this link:\n",
        "* https://www.earthdatascience.org/courses/earth-analytics-python/use-time-series-data-in-python/customize-dates--matplotlib-plots-python/\n"
      ]
    },
    {
      "cell_type": "markdown",
      "metadata": {
        "id": "O7d7cG0plflB"
      },
      "source": [
        "# Make the Date as an Index\n",
        "When you specify a column in your dataframe as the index, it goes into the index (no more 0, 1, 2, 3.... now it's dates!) There are benefits to setting a primary key as the index. There's other functionality within `pandas` that you can leverage later on - such as time series interpolation and data selection (will show you how to do this at the bottom!)"
      ]
    },
    {
      "cell_type": "code",
      "metadata": {
        "id": "CtuffjSEQyhL"
      },
      "source": [
        "# if we wanted to, we can make the date an index\n",
        "# link: https://stackoverflow.com/questions/37610983/how-set-column-as-date-index\n",
        "\n",
        "# set the index\n",
        "df.set_index('Date', inplace=True)\n",
        "\n",
        "# don't forget to say inplace=True or else it won't really update!\n",
        "\n",
        "# don't run this cell twice - once it's the index, you delete the column\n",
        "# and you can't reference it any more!"
      ],
      "execution_count": null,
      "outputs": []
    },
    {
      "cell_type": "code",
      "metadata": {
        "id": "sCXQwdiIVCQs",
        "colab": {
          "base_uri": "https://localhost:8080/",
          "height": 357
        },
        "outputId": "8838bf4b-8d41-428d-ee5c-41dbe4cdd3c3"
      },
      "source": [
        "df.head()"
      ],
      "execution_count": null,
      "outputs": [
        {
          "output_type": "execute_result",
          "data": {
            "text/html": [
              "<div>\n",
              "<style scoped>\n",
              "    .dataframe tbody tr th:only-of-type {\n",
              "        vertical-align: middle;\n",
              "    }\n",
              "\n",
              "    .dataframe tbody tr th {\n",
              "        vertical-align: top;\n",
              "    }\n",
              "\n",
              "    .dataframe thead th {\n",
              "        text-align: right;\n",
              "    }\n",
              "</style>\n",
              "<table border=\"1\" class=\"dataframe\">\n",
              "  <thead>\n",
              "    <tr style=\"text-align: right;\">\n",
              "      <th></th>\n",
              "      <th>Open</th>\n",
              "      <th>High</th>\n",
              "      <th>Low</th>\n",
              "      <th>Close</th>\n",
              "      <th>Adj Close</th>\n",
              "      <th>Volume</th>\n",
              "      <th>DayOfWeek</th>\n",
              "      <th>Month</th>\n",
              "      <th>Day</th>\n",
              "      <th>Year</th>\n",
              "      <th>RawChange</th>\n",
              "      <th>PctChange</th>\n",
              "    </tr>\n",
              "    <tr>\n",
              "      <th>Date</th>\n",
              "      <th></th>\n",
              "      <th></th>\n",
              "      <th></th>\n",
              "      <th></th>\n",
              "      <th></th>\n",
              "      <th></th>\n",
              "      <th></th>\n",
              "      <th></th>\n",
              "      <th></th>\n",
              "      <th></th>\n",
              "      <th></th>\n",
              "      <th></th>\n",
              "    </tr>\n",
              "  </thead>\n",
              "  <tbody>\n",
              "    <tr>\n",
              "      <th>1980-12-12</th>\n",
              "      <td>0.513393</td>\n",
              "      <td>0.515625</td>\n",
              "      <td>0.513393</td>\n",
              "      <td>0.513393</td>\n",
              "      <td>0.407747</td>\n",
              "      <td>117258400.0</td>\n",
              "      <td>Friday</td>\n",
              "      <td>12</td>\n",
              "      <td>12</td>\n",
              "      <td>1980</td>\n",
              "      <td>NaN</td>\n",
              "      <td>NaN</td>\n",
              "    </tr>\n",
              "    <tr>\n",
              "      <th>1980-12-15</th>\n",
              "      <td>0.488839</td>\n",
              "      <td>0.488839</td>\n",
              "      <td>0.486607</td>\n",
              "      <td>0.486607</td>\n",
              "      <td>0.386473</td>\n",
              "      <td>43971200.0</td>\n",
              "      <td>Monday</td>\n",
              "      <td>12</td>\n",
              "      <td>15</td>\n",
              "      <td>1980</td>\n",
              "      <td>-0.021274</td>\n",
              "      <td>-0.052175</td>\n",
              "    </tr>\n",
              "    <tr>\n",
              "      <th>1980-12-16</th>\n",
              "      <td>0.453125</td>\n",
              "      <td>0.453125</td>\n",
              "      <td>0.450893</td>\n",
              "      <td>0.450893</td>\n",
              "      <td>0.358108</td>\n",
              "      <td>26432000.0</td>\n",
              "      <td>Tuesday</td>\n",
              "      <td>12</td>\n",
              "      <td>16</td>\n",
              "      <td>1980</td>\n",
              "      <td>-0.028365</td>\n",
              "      <td>-0.073395</td>\n",
              "    </tr>\n",
              "    <tr>\n",
              "      <th>1980-12-17</th>\n",
              "      <td>0.462054</td>\n",
              "      <td>0.464286</td>\n",
              "      <td>0.462054</td>\n",
              "      <td>0.462054</td>\n",
              "      <td>0.366972</td>\n",
              "      <td>21610400.0</td>\n",
              "      <td>Wednesday</td>\n",
              "      <td>12</td>\n",
              "      <td>17</td>\n",
              "      <td>1980</td>\n",
              "      <td>0.008864</td>\n",
              "      <td>0.024752</td>\n",
              "    </tr>\n",
              "    <tr>\n",
              "      <th>1980-12-18</th>\n",
              "      <td>0.475446</td>\n",
              "      <td>0.477679</td>\n",
              "      <td>0.475446</td>\n",
              "      <td>0.475446</td>\n",
              "      <td>0.377609</td>\n",
              "      <td>18362400.0</td>\n",
              "      <td>Thursday</td>\n",
              "      <td>12</td>\n",
              "      <td>18</td>\n",
              "      <td>1980</td>\n",
              "      <td>0.010637</td>\n",
              "      <td>0.028986</td>\n",
              "    </tr>\n",
              "  </tbody>\n",
              "</table>\n",
              "</div>"
            ],
            "text/plain": [
              "                Open      High       Low  ...  Year  RawChange  PctChange\n",
              "Date                                      ...                            \n",
              "1980-12-12  0.513393  0.515625  0.513393  ...  1980        NaN        NaN\n",
              "1980-12-15  0.488839  0.488839  0.486607  ...  1980  -0.021274  -0.052175\n",
              "1980-12-16  0.453125  0.453125  0.450893  ...  1980  -0.028365  -0.073395\n",
              "1980-12-17  0.462054  0.464286  0.462054  ...  1980   0.008864   0.024752\n",
              "1980-12-18  0.475446  0.477679  0.475446  ...  1980   0.010637   0.028986\n",
              "\n",
              "[5 rows x 12 columns]"
            ]
          },
          "metadata": {
            "tags": []
          },
          "execution_count": 29
        }
      ]
    },
    {
      "cell_type": "code",
      "metadata": {
        "id": "fxfDZXqUdE5V",
        "colab": {
          "base_uri": "https://localhost:8080/",
          "height": 265
        },
        "outputId": "4da1a24c-4479-4a4a-b3ac-1fe25616b39a"
      },
      "source": [
        "# boxplots\n",
        "boxplot = df.boxplot(column=['PctChange'])"
      ],
      "execution_count": null,
      "outputs": [
        {
          "output_type": "display_data",
          "data": {
            "image/png": "[encoded data removed]",
            "text/plain": [
              "<Figure size 432x288 with 1 Axes>"
            ]
          },
          "metadata": {
            "tags": [],
            "needs_background": "light"
          }
        }
      ]
    },
    {
      "cell_type": "code",
      "metadata": {
        "id": "Pr6hSwfbd4jP",
        "colab": {
          "base_uri": "https://localhost:8080/",
          "height": 301
        },
        "outputId": "e68209d2-24b2-482e-cd03-593063d5f8af"
      },
      "source": [
        "# more interesting to look at closes by month\n",
        "#link: https://pandas.pydata.org/pandas-docs/version/0.23/generated/pandas.DataFrame.boxplot.html\n",
        "df.boxplot(column=['PctChange'], by=['Month'])\n",
        "plt.show()"
      ],
      "execution_count": null,
      "outputs": [
        {
          "output_type": "display_data",
          "data": {
            "image/png": "[encoded data removed]",
            "text/plain": [
              "<Figure size 432x288 with 1 Axes>"
            ]
          },
          "metadata": {
            "tags": [],
            "needs_background": "light"
          }
        }
      ]
    },
    {
      "cell_type": "markdown",
      "metadata": {
        "id": "Z3jP0K4Yewp9"
      },
      "source": [
        "It looks a little bit flat to me... perhaps we can do some more feature engineering to see if things pop."
      ]
    },
    {
      "cell_type": "markdown",
      "metadata": {
        "id": "MIzefZozl7LQ"
      },
      "source": [
        "# The Sign Function (-1, 0, 1)\n",
        "There is no 'sign' function in `pandas`, but we can easily access it within `numpy`.\n",
        "\n",
        "I like to use it for counting consecutive values in a row (more on that in a later lecture). For now, it's similar to a binary recoding, except you can have a value for 0 if no change.\n",
        "\n",
        "<center>\n",
        "\n",
        "![sign function math](https://wikimedia.org/api/rest_v1/media/math/render/svg/f8374ef8411ba954fb2655992b6e4496b8710cd6)\n",
        "\n",
        "</center>\n",
        "\n",
        "The sign function takes on a value of -1 is less than 0, 1 if greater than 0, and 0 if equal to 0.\n",
        "\n",
        "<center>\n",
        "\n",
        "![sign function](https://upload.wikimedia.org/wikipedia/commons/thumb/4/4f/Signum_function.svg/600px-Signum_function.svg.png)\n",
        "\n"
      ]
    },
    {
      "cell_type": "code",
      "metadata": {
        "id": "7qgAKuuXewPk",
        "colab": {
          "base_uri": "https://localhost:8080/",
          "height": 357
        },
        "outputId": "fe99e980-c46a-4b1d-bf6a-7d6c58979382"
      },
      "source": [
        "# intro to the sign function\n",
        "# link: https://stackoverflow.com/questions/37377478/filling-a-dataframe-with-sign-numbers\n",
        "'''\n",
        "another way you could do this is with recoding values\n",
        "zeros would be left in place... we could sum up by month...\n",
        "see which months are most profitable in terms of quantity?\n",
        "\n",
        "df[df > 0] = 1\n",
        "df[df < 0] = -1\n",
        "'''\n",
        "df['TheSign'] = np.sign(df['PctChange'])\n",
        "df.head()"
      ],
      "execution_count": null,
      "outputs": [
        {
          "output_type": "execute_result",
          "data": {
            "text/html": [
              "<div>\n",
              "<style scoped>\n",
              "    .dataframe tbody tr th:only-of-type {\n",
              "        vertical-align: middle;\n",
              "    }\n",
              "\n",
              "    .dataframe tbody tr th {\n",
              "        vertical-align: top;\n",
              "    }\n",
              "\n",
              "    .dataframe thead th {\n",
              "        text-align: right;\n",
              "    }\n",
              "</style>\n",
              "<table border=\"1\" class=\"dataframe\">\n",
              "  <thead>\n",
              "    <tr style=\"text-align: right;\">\n",
              "      <th></th>\n",
              "      <th>Open</th>\n",
              "      <th>High</th>\n",
              "      <th>Low</th>\n",
              "      <th>Close</th>\n",
              "      <th>Adj Close</th>\n",
              "      <th>Volume</th>\n",
              "      <th>DayOfWeek</th>\n",
              "      <th>Month</th>\n",
              "      <th>Day</th>\n",
              "      <th>Year</th>\n",
              "      <th>RawChange</th>\n",
              "      <th>PctChange</th>\n",
              "      <th>TheSign</th>\n",
              "    </tr>\n",
              "    <tr>\n",
              "      <th>Date</th>\n",
              "      <th></th>\n",
              "      <th></th>\n",
              "      <th></th>\n",
              "      <th></th>\n",
              "      <th></th>\n",
              "      <th></th>\n",
              "      <th></th>\n",
              "      <th></th>\n",
              "      <th></th>\n",
              "      <th></th>\n",
              "      <th></th>\n",
              "      <th></th>\n",
              "      <th></th>\n",
              "    </tr>\n",
              "  </thead>\n",
              "  <tbody>\n",
              "    <tr>\n",
              "      <th>1980-12-12</th>\n",
              "      <td>0.513393</td>\n",
              "      <td>0.515625</td>\n",
              "      <td>0.513393</td>\n",
              "      <td>0.513393</td>\n",
              "      <td>0.407747</td>\n",
              "      <td>117258400.0</td>\n",
              "      <td>Friday</td>\n",
              "      <td>12</td>\n",
              "      <td>12</td>\n",
              "      <td>1980</td>\n",
              "      <td>NaN</td>\n",
              "      <td>NaN</td>\n",
              "      <td>NaN</td>\n",
              "    </tr>\n",
              "    <tr>\n",
              "      <th>1980-12-15</th>\n",
              "      <td>0.488839</td>\n",
              "      <td>0.488839</td>\n",
              "      <td>0.486607</td>\n",
              "      <td>0.486607</td>\n",
              "      <td>0.386473</td>\n",
              "      <td>43971200.0</td>\n",
              "      <td>Monday</td>\n",
              "      <td>12</td>\n",
              "      <td>15</td>\n",
              "      <td>1980</td>\n",
              "      <td>-0.021274</td>\n",
              "      <td>-0.052175</td>\n",
              "      <td>-1.0</td>\n",
              "    </tr>\n",
              "    <tr>\n",
              "      <th>1980-12-16</th>\n",
              "      <td>0.453125</td>\n",
              "      <td>0.453125</td>\n",
              "      <td>0.450893</td>\n",
              "      <td>0.450893</td>\n",
              "      <td>0.358108</td>\n",
              "      <td>26432000.0</td>\n",
              "      <td>Tuesday</td>\n",
              "      <td>12</td>\n",
              "      <td>16</td>\n",
              "      <td>1980</td>\n",
              "      <td>-0.028365</td>\n",
              "      <td>-0.073395</td>\n",
              "      <td>-1.0</td>\n",
              "    </tr>\n",
              "    <tr>\n",
              "      <th>1980-12-17</th>\n",
              "      <td>0.462054</td>\n",
              "      <td>0.464286</td>\n",
              "      <td>0.462054</td>\n",
              "      <td>0.462054</td>\n",
              "      <td>0.366972</td>\n",
              "      <td>21610400.0</td>\n",
              "      <td>Wednesday</td>\n",
              "      <td>12</td>\n",
              "      <td>17</td>\n",
              "      <td>1980</td>\n",
              "      <td>0.008864</td>\n",
              "      <td>0.024752</td>\n",
              "      <td>1.0</td>\n",
              "    </tr>\n",
              "    <tr>\n",
              "      <th>1980-12-18</th>\n",
              "      <td>0.475446</td>\n",
              "      <td>0.477679</td>\n",
              "      <td>0.475446</td>\n",
              "      <td>0.475446</td>\n",
              "      <td>0.377609</td>\n",
              "      <td>18362400.0</td>\n",
              "      <td>Thursday</td>\n",
              "      <td>12</td>\n",
              "      <td>18</td>\n",
              "      <td>1980</td>\n",
              "      <td>0.010637</td>\n",
              "      <td>0.028986</td>\n",
              "      <td>1.0</td>\n",
              "    </tr>\n",
              "  </tbody>\n",
              "</table>\n",
              "</div>"
            ],
            "text/plain": [
              "                Open      High       Low  ...  RawChange  PctChange  TheSign\n",
              "Date                                      ...                               \n",
              "1980-12-12  0.513393  0.515625  0.513393  ...        NaN        NaN      NaN\n",
              "1980-12-15  0.488839  0.488839  0.486607  ...  -0.021274  -0.052175     -1.0\n",
              "1980-12-16  0.453125  0.453125  0.450893  ...  -0.028365  -0.073395     -1.0\n",
              "1980-12-17  0.462054  0.464286  0.462054  ...   0.008864   0.024752      1.0\n",
              "1980-12-18  0.475446  0.477679  0.475446  ...   0.010637   0.028986      1.0\n",
              "\n",
              "[5 rows x 13 columns]"
            ]
          },
          "metadata": {
            "tags": []
          },
          "execution_count": 32
        }
      ]
    },
    {
      "cell_type": "markdown",
      "metadata": {
        "id": "S0dj_JxCgefU"
      },
      "source": [
        "See the NaN in the first row? This is OK for now... if you don't like it or if you are getting errors from missing values, just DROP it! Many ways you can do this, I like this to just drop the first row."
      ]
    },
    {
      "cell_type": "code",
      "metadata": {
        "colab": {
          "base_uri": "https://localhost:8080/"
        },
        "id": "924UmKLIgxCy",
        "outputId": "9b181a6e-a5ff-4d7f-c355-6702af5a8f5a"
      },
      "source": [
        "print(df.shape) # before\n",
        "df = df[1:] # return everything after the first row\n",
        "print(df.shape) # after.. we dropped another row!"
      ],
      "execution_count": null,
      "outputs": [
        {
          "output_type": "stream",
          "text": [
            "(9847, 13)\n",
            "(9846, 13)\n"
          ],
          "name": "stdout"
        }
      ]
    },
    {
      "cell_type": "markdown",
      "metadata": {
        "id": "cM5rSPoXg7lC"
      },
      "source": [
        "Let's manipulate our sign function and aggregate the resultant values to tell an interesting story with data."
      ]
    },
    {
      "cell_type": "code",
      "metadata": {
        "id": "en6_9b0sfr7L",
        "colab": {
          "base_uri": "https://localhost:8080/"
        },
        "outputId": "f3266fbf-6d60-4626-8d30-2670967939bd"
      },
      "source": [
        "# we could sum 'TheSign' by group since it's a a bunch of -1 and 1's\n",
        "tmpdata = df.groupby(\"Month\")[\"TheSign\"].sum()\n",
        "tmpdata.head"
      ],
      "execution_count": null,
      "outputs": [
        {
          "output_type": "execute_result",
          "data": {
            "text/plain": [
              "<bound method NDFrame.head of Month\n",
              "1     59.0\n",
              "2     43.0\n",
              "3      4.0\n",
              "4     12.0\n",
              "5      8.0\n",
              "6    -49.0\n",
              "7     26.0\n",
              "8     97.0\n",
              "9    -10.0\n",
              "10    53.0\n",
              "11    17.0\n",
              "12     6.0\n",
              "Name: TheSign, dtype: float64>"
            ]
          },
          "metadata": {
            "tags": []
          },
          "execution_count": 34
        }
      ]
    },
    {
      "cell_type": "markdown",
      "metadata": {
        "id": "_PG-YRk7e957"
      },
      "source": [
        "Just based on this binary flag, I'd say it's a great time to buy in January and August and a bad time to buy in June!"
      ]
    },
    {
      "cell_type": "markdown",
      "metadata": {
        "id": "A5RPCAIJfLcT"
      },
      "source": [
        "## Visualization with the Sign function\n",
        "Let's see if we can tell a better story than just the simple table... how about a bar plot?"
      ]
    },
    {
      "cell_type": "code",
      "metadata": {
        "id": "p_JLv8itmRbg",
        "colab": {
          "base_uri": "https://localhost:8080/",
          "height": 447
        },
        "outputId": "15be1776-0e6b-4446-c146-5ea271507b9a"
      },
      "source": [
        "tmp = df.groupby(\"Month\")[\"TheSign\"].agg(['mean','std','sum'])\n",
        "tmp"
      ],
      "execution_count": null,
      "outputs": [
        {
          "output_type": "execute_result",
          "data": {
            "text/html": [
              "<div>\n",
              "<style scoped>\n",
              "    .dataframe tbody tr th:only-of-type {\n",
              "        vertical-align: middle;\n",
              "    }\n",
              "\n",
              "    .dataframe tbody tr th {\n",
              "        vertical-align: top;\n",
              "    }\n",
              "\n",
              "    .dataframe thead th {\n",
              "        text-align: right;\n",
              "    }\n",
              "</style>\n",
              "<table border=\"1\" class=\"dataframe\">\n",
              "  <thead>\n",
              "    <tr style=\"text-align: right;\">\n",
              "      <th></th>\n",
              "      <th>mean</th>\n",
              "      <th>std</th>\n",
              "      <th>sum</th>\n",
              "    </tr>\n",
              "    <tr>\n",
              "      <th>Month</th>\n",
              "      <th></th>\n",
              "      <th></th>\n",
              "      <th></th>\n",
              "    </tr>\n",
              "  </thead>\n",
              "  <tbody>\n",
              "    <tr>\n",
              "      <th>1</th>\n",
              "      <td>0.073110</td>\n",
              "      <td>0.980382</td>\n",
              "      <td>59.0</td>\n",
              "    </tr>\n",
              "    <tr>\n",
              "      <th>2</th>\n",
              "      <td>0.057487</td>\n",
              "      <td>0.979391</td>\n",
              "      <td>43.0</td>\n",
              "    </tr>\n",
              "    <tr>\n",
              "      <th>3</th>\n",
              "      <td>0.004689</td>\n",
              "      <td>0.983420</td>\n",
              "      <td>4.0</td>\n",
              "    </tr>\n",
              "    <tr>\n",
              "      <th>4</th>\n",
              "      <td>0.014888</td>\n",
              "      <td>0.981709</td>\n",
              "      <td>12.0</td>\n",
              "    </tr>\n",
              "    <tr>\n",
              "      <th>5</th>\n",
              "      <td>0.009697</td>\n",
              "      <td>0.980342</td>\n",
              "      <td>8.0</td>\n",
              "    </tr>\n",
              "    <tr>\n",
              "      <th>6</th>\n",
              "      <td>-0.058753</td>\n",
              "      <td>0.981290</td>\n",
              "      <td>-49.0</td>\n",
              "    </tr>\n",
              "    <tr>\n",
              "      <th>7</th>\n",
              "      <td>0.031515</td>\n",
              "      <td>0.979883</td>\n",
              "      <td>26.0</td>\n",
              "    </tr>\n",
              "    <tr>\n",
              "      <th>8</th>\n",
              "      <td>0.112399</td>\n",
              "      <td>0.977768</td>\n",
              "      <td>97.0</td>\n",
              "    </tr>\n",
              "    <tr>\n",
              "      <th>9</th>\n",
              "      <td>-0.012642</td>\n",
              "      <td>0.980747</td>\n",
              "      <td>-10.0</td>\n",
              "    </tr>\n",
              "    <tr>\n",
              "      <th>10</th>\n",
              "      <td>0.061485</td>\n",
              "      <td>0.974555</td>\n",
              "      <td>53.0</td>\n",
              "    </tr>\n",
              "    <tr>\n",
              "      <th>11</th>\n",
              "      <td>0.021330</td>\n",
              "      <td>0.985216</td>\n",
              "      <td>17.0</td>\n",
              "    </tr>\n",
              "    <tr>\n",
              "      <th>12</th>\n",
              "      <td>0.007186</td>\n",
              "      <td>0.981823</td>\n",
              "      <td>6.0</td>\n",
              "    </tr>\n",
              "  </tbody>\n",
              "</table>\n",
              "</div>"
            ],
            "text/plain": [
              "           mean       std   sum\n",
              "Month                          \n",
              "1      0.073110  0.980382  59.0\n",
              "2      0.057487  0.979391  43.0\n",
              "3      0.004689  0.983420   4.0\n",
              "4      0.014888  0.981709  12.0\n",
              "5      0.009697  0.980342   8.0\n",
              "6     -0.058753  0.981290 -49.0\n",
              "7      0.031515  0.979883  26.0\n",
              "8      0.112399  0.977768  97.0\n",
              "9     -0.012642  0.980747 -10.0\n",
              "10     0.061485  0.974555  53.0\n",
              "11     0.021330  0.985216  17.0\n",
              "12     0.007186  0.981823   6.0"
            ]
          },
          "metadata": {
            "tags": []
          },
          "execution_count": 35
        }
      ]
    },
    {
      "cell_type": "code",
      "metadata": {
        "id": "1Ip7uxTxniVQ",
        "colab": {
          "base_uri": "https://localhost:8080/",
          "height": 282
        },
        "outputId": "ead3dd98-b682-405c-a26b-e29c59555a3c"
      },
      "source": [
        "tmp['mean'].plot.bar()\n",
        "plt.show()"
      ],
      "execution_count": null,
      "outputs": [
        {
          "output_type": "display_data",
          "data": {
            "image/png": "[encoded data removed]",
            "text/plain": [
              "<Figure size 432x288 with 1 Axes>"
            ]
          },
          "metadata": {
            "tags": [],
            "needs_background": "light"
          }
        }
      ]
    },
    {
      "cell_type": "code",
      "metadata": {
        "id": "e1F0wYHZgOGz",
        "colab": {
          "base_uri": "https://localhost:8080/",
          "height": 446
        },
        "outputId": "b0cece96-eb91-4036-9ff9-e0de4273e8bc"
      },
      "source": [
        "# we could sum by two groups, but we need square brackets\n",
        "# link: https://www.firstpythonnotebook.org/groupby/\n",
        "\n",
        "# this link has some great links for a \"first\" Jupyter notebook\n",
        "\n",
        "tmpdata = df.groupby([\"Month\", \"Year\"])[\"TheSign\"].sum()\n",
        "tmpdata = pd.DataFrame(tmpdata)\n",
        "tmpdata # notice that this now becomes the index"
      ],
      "execution_count": null,
      "outputs": [
        {
          "output_type": "execute_result",
          "data": {
            "text/html": [
              "<div>\n",
              "<style scoped>\n",
              "    .dataframe tbody tr th:only-of-type {\n",
              "        vertical-align: middle;\n",
              "    }\n",
              "\n",
              "    .dataframe tbody tr th {\n",
              "        vertical-align: top;\n",
              "    }\n",
              "\n",
              "    .dataframe thead th {\n",
              "        text-align: right;\n",
              "    }\n",
              "</style>\n",
              "<table border=\"1\" class=\"dataframe\">\n",
              "  <thead>\n",
              "    <tr style=\"text-align: right;\">\n",
              "      <th></th>\n",
              "      <th></th>\n",
              "      <th>TheSign</th>\n",
              "    </tr>\n",
              "    <tr>\n",
              "      <th>Month</th>\n",
              "      <th>Year</th>\n",
              "      <th></th>\n",
              "    </tr>\n",
              "  </thead>\n",
              "  <tbody>\n",
              "    <tr>\n",
              "      <th rowspan=\"5\" valign=\"top\">1</th>\n",
              "      <th>1981</th>\n",
              "      <td>-7.0</td>\n",
              "    </tr>\n",
              "    <tr>\n",
              "      <th>1982</th>\n",
              "      <td>0.0</td>\n",
              "    </tr>\n",
              "    <tr>\n",
              "      <th>1983</th>\n",
              "      <td>7.0</td>\n",
              "    </tr>\n",
              "    <tr>\n",
              "      <th>1984</th>\n",
              "      <td>2.0</td>\n",
              "    </tr>\n",
              "    <tr>\n",
              "      <th>1985</th>\n",
              "      <td>0.0</td>\n",
              "    </tr>\n",
              "    <tr>\n",
              "      <th>...</th>\n",
              "      <th>...</th>\n",
              "      <td>...</td>\n",
              "    </tr>\n",
              "    <tr>\n",
              "      <th rowspan=\"5\" valign=\"top\">12</th>\n",
              "      <th>2015</th>\n",
              "      <td>-10.0</td>\n",
              "    </tr>\n",
              "    <tr>\n",
              "      <th>2016</th>\n",
              "      <td>6.0</td>\n",
              "    </tr>\n",
              "    <tr>\n",
              "      <th>2017</th>\n",
              "      <td>-1.0</td>\n",
              "    </tr>\n",
              "    <tr>\n",
              "      <th>2018</th>\n",
              "      <td>-3.0</td>\n",
              "    </tr>\n",
              "    <tr>\n",
              "      <th>2019</th>\n",
              "      <td>9.0</td>\n",
              "    </tr>\n",
              "  </tbody>\n",
              "</table>\n",
              "<p>470 rows × 1 columns</p>\n",
              "</div>"
            ],
            "text/plain": [
              "            TheSign\n",
              "Month Year         \n",
              "1     1981     -7.0\n",
              "      1982      0.0\n",
              "      1983      7.0\n",
              "      1984      2.0\n",
              "      1985      0.0\n",
              "...             ...\n",
              "12    2015    -10.0\n",
              "      2016      6.0\n",
              "      2017     -1.0\n",
              "      2018     -3.0\n",
              "      2019      9.0\n",
              "\n",
              "[470 rows x 1 columns]"
            ]
          },
          "metadata": {
            "tags": []
          },
          "execution_count": 37
        }
      ]
    },
    {
      "cell_type": "code",
      "metadata": {
        "id": "Gx3FrPukrPo3",
        "colab": {
          "base_uri": "https://localhost:8080/",
          "height": 322
        },
        "outputId": "412e5799-f040-46dd-cf2c-3f91b4ab4693"
      },
      "source": [
        "# any months or time periods look good to you?\n",
        "df.groupby(['Year', 'Month'])['TheSign'].sum().plot.bar()\n",
        "plt.show()"
      ],
      "execution_count": null,
      "outputs": [
        {
          "output_type": "display_data",
          "data": {
            "image/png": "[encoded data removed]",
            "text/plain": [
              "<Figure size 432x288 with 1 Axes>"
            ]
          },
          "metadata": {
            "tags": [],
            "needs_background": "light"
          }
        }
      ]
    },
    {
      "cell_type": "markdown",
      "metadata": {
        "id": "WrOoBgMahP1D"
      },
      "source": [
        "Woof! That X axis looks like garbage. Let's clean it up. Requires a little more work."
      ]
    },
    {
      "cell_type": "code",
      "metadata": {
        "colab": {
          "base_uri": "https://localhost:8080/"
        },
        "id": "nfffZEFOhSqI",
        "outputId": "f598c751-d623-4b3d-b2b5-77bef4100039"
      },
      "source": [
        "tmp = df.groupby(['Year', 'Month'])['TheSign'].sum()\n",
        "tmp"
      ],
      "execution_count": null,
      "outputs": [
        {
          "output_type": "execute_result",
          "data": {
            "text/plain": [
              "Year  Month\n",
              "1980  12       4.0\n",
              "1981  1       -7.0\n",
              "      2        1.0\n",
              "      3       -7.0\n",
              "      4        1.0\n",
              "              ... \n",
              "2019  9        2.0\n",
              "      10       7.0\n",
              "      11       2.0\n",
              "      12       9.0\n",
              "2020  1        1.0\n",
              "Name: TheSign, Length: 470, dtype: float64"
            ]
          },
          "metadata": {
            "tags": []
          },
          "execution_count": 39
        }
      ]
    },
    {
      "cell_type": "code",
      "metadata": {
        "colab": {
          "base_uri": "https://localhost:8080/"
        },
        "id": "t-Gmrhhih5kp",
        "outputId": "588f37b2-e404-4060-ba88-e0c8eb9615d7"
      },
      "source": [
        "type(tmp) # this is a pandas series, let's convert to dataframe"
      ],
      "execution_count": null,
      "outputs": [
        {
          "output_type": "execute_result",
          "data": {
            "text/plain": [
              "pandas.core.series.Series"
            ]
          },
          "metadata": {
            "tags": []
          },
          "execution_count": 40
        }
      ]
    },
    {
      "cell_type": "code",
      "metadata": {
        "colab": {
          "base_uri": "https://localhost:8080/",
          "height": 446
        },
        "id": "FvSgx0nXh_0p",
        "outputId": "7c136fd2-e94e-40bf-f5e9-8777e4a2ae4c"
      },
      "source": [
        "tmp = pd.DataFrame(tmp)\n",
        "tmp"
      ],
      "execution_count": null,
      "outputs": [
        {
          "output_type": "execute_result",
          "data": {
            "text/html": [
              "<div>\n",
              "<style scoped>\n",
              "    .dataframe tbody tr th:only-of-type {\n",
              "        vertical-align: middle;\n",
              "    }\n",
              "\n",
              "    .dataframe tbody tr th {\n",
              "        vertical-align: top;\n",
              "    }\n",
              "\n",
              "    .dataframe thead th {\n",
              "        text-align: right;\n",
              "    }\n",
              "</style>\n",
              "<table border=\"1\" class=\"dataframe\">\n",
              "  <thead>\n",
              "    <tr style=\"text-align: right;\">\n",
              "      <th></th>\n",
              "      <th></th>\n",
              "      <th>TheSign</th>\n",
              "    </tr>\n",
              "    <tr>\n",
              "      <th>Year</th>\n",
              "      <th>Month</th>\n",
              "      <th></th>\n",
              "    </tr>\n",
              "  </thead>\n",
              "  <tbody>\n",
              "    <tr>\n",
              "      <th>1980</th>\n",
              "      <th>12</th>\n",
              "      <td>4.0</td>\n",
              "    </tr>\n",
              "    <tr>\n",
              "      <th rowspan=\"4\" valign=\"top\">1981</th>\n",
              "      <th>1</th>\n",
              "      <td>-7.0</td>\n",
              "    </tr>\n",
              "    <tr>\n",
              "      <th>2</th>\n",
              "      <td>1.0</td>\n",
              "    </tr>\n",
              "    <tr>\n",
              "      <th>3</th>\n",
              "      <td>-7.0</td>\n",
              "    </tr>\n",
              "    <tr>\n",
              "      <th>4</th>\n",
              "      <td>1.0</td>\n",
              "    </tr>\n",
              "    <tr>\n",
              "      <th>...</th>\n",
              "      <th>...</th>\n",
              "      <td>...</td>\n",
              "    </tr>\n",
              "    <tr>\n",
              "      <th rowspan=\"4\" valign=\"top\">2019</th>\n",
              "      <th>9</th>\n",
              "      <td>2.0</td>\n",
              "    </tr>\n",
              "    <tr>\n",
              "      <th>10</th>\n",
              "      <td>7.0</td>\n",
              "    </tr>\n",
              "    <tr>\n",
              "      <th>11</th>\n",
              "      <td>2.0</td>\n",
              "    </tr>\n",
              "    <tr>\n",
              "      <th>12</th>\n",
              "      <td>9.0</td>\n",
              "    </tr>\n",
              "    <tr>\n",
              "      <th>2020</th>\n",
              "      <th>1</th>\n",
              "      <td>1.0</td>\n",
              "    </tr>\n",
              "  </tbody>\n",
              "</table>\n",
              "<p>470 rows × 1 columns</p>\n",
              "</div>"
            ],
            "text/plain": [
              "            TheSign\n",
              "Year Month         \n",
              "1980 12         4.0\n",
              "1981 1         -7.0\n",
              "     2          1.0\n",
              "     3         -7.0\n",
              "     4          1.0\n",
              "...             ...\n",
              "2019 9          2.0\n",
              "     10         7.0\n",
              "     11         2.0\n",
              "     12         9.0\n",
              "2020 1          1.0\n",
              "\n",
              "[470 rows x 1 columns]"
            ]
          },
          "metadata": {
            "tags": []
          },
          "execution_count": 41
        }
      ]
    },
    {
      "cell_type": "markdown",
      "metadata": {
        "id": "A6anB_qRh2ys"
      },
      "source": [
        "EVERYTHING plays nicer in a dataframe - when it doubt, get it in a dataframe."
      ]
    },
    {
      "cell_type": "code",
      "metadata": {
        "colab": {
          "base_uri": "https://localhost:8080/",
          "height": 279
        },
        "id": "uYxWX-_kiG2S",
        "outputId": "f1461587-562a-4185-d873-e45537d3504c"
      },
      "source": [
        "tmp.plot()\n",
        "plt.show()"
      ],
      "execution_count": null,
      "outputs": [
        {
          "output_type": "display_data",
          "data": {
            "image/png": "[encoded data removed]",
            "text/plain": [
              "<Figure size 432x288 with 1 Axes>"
            ]
          },
          "metadata": {
            "tags": [],
            "needs_background": "light"
          }
        }
      ]
    },
    {
      "cell_type": "markdown",
      "metadata": {
        "id": "IbtVTI6JiWqa"
      },
      "source": [
        "**Fun!** By having the date column as the index (even if it's a multi-index), plotting becomes MUCH CLEANER.\n",
        "\n",
        "Say this out loud - ALWAYS KEEP YOUR DATA IN A DATAFRAME (because then you can leverage all of the functionality of a pandas dataframe).\n",
        "\n",
        "You can update the code above and look at `pct_change` instead of the `sign` function."
      ]
    },
    {
      "cell_type": "markdown",
      "metadata": {
        "id": "cVcB6Qp3hMty"
      },
      "source": [
        "# Rolling Averages (Moving Averages)\n",
        "A rolling average is just then average of the past $N$ observations.\n",
        "\n",
        "Folks in the finance industry have all sorts of rules for buying and selling stocks where the $X$ day and $Y$ day moving averages cross.\n",
        "\n",
        "You can generalize what I show you here and come up with various trading rules you'd like to pursue."
      ]
    },
    {
      "cell_type": "code",
      "metadata": {
        "id": "CbYyxjNehEYY",
        "colab": {
          "base_uri": "https://localhost:8080/",
          "height": 770
        },
        "outputId": "e68d7cdc-dfab-4e30-f212-deff274f4404"
      },
      "source": [
        "# rolling averages\n",
        "# link: https://www.datacamp.com/community/tutorials/moving-averages-in-pandas\n",
        "\n",
        "# let's look at 2018 to present for this\n",
        "# link: https://stackoverflow.com/questions/22898824/filtering-pandas-dataframes-on-dates\n",
        "\n",
        "# this code won't work because date is an INDEX!\n",
        "#data18and19 = mydata[(mydata['Date'] >= '2018-01-01') & (mydata['Date'] <= '2019-12-15')]\n",
        "\n",
        "# try something like this:\n",
        "# link: https://stackoverflow.com/questions/22898824/filtering-pandas-dataframes-on-dates\n",
        "newdata = df.loc['2018-01-01':'2019-12-31',:]\n",
        "newdata.head()\n",
        "\n",
        "# let's add a moving average column (5 day)\n",
        "newdata['FiveDayAvg'] = newdata['PctChange'].expanding(min_periods=5).mean()\n",
        "newdata['HundredDayAvg'] = newdata['PctChange'].expanding(min_periods=100).mean()\n",
        "newdata.head(n=10)"
      ],
      "execution_count": null,
      "outputs": [
        {
          "output_type": "stream",
          "text": [
            "/usr/local/lib/python3.6/dist-packages/ipykernel_launcher.py:16: SettingWithCopyWarning: \n",
            "A value is trying to be set on a copy of a slice from a DataFrame.\n",
            "Try using .loc[row_indexer,col_indexer] = value instead\n",
            "\n",
            "See the caveats in the documentation: https://pandas.pydata.org/pandas-docs/stable/user_guide/indexing.html#returning-a-view-versus-a-copy\n",
            "  app.launch_new_instance()\n",
            "/usr/local/lib/python3.6/dist-packages/ipykernel_launcher.py:17: SettingWithCopyWarning: \n",
            "A value is trying to be set on a copy of a slice from a DataFrame.\n",
            "Try using .loc[row_indexer,col_indexer] = value instead\n",
            "\n",
            "See the caveats in the documentation: https://pandas.pydata.org/pandas-docs/stable/user_guide/indexing.html#returning-a-view-versus-a-copy\n"
          ],
          "name": "stderr"
        },
        {
          "output_type": "execute_result",
          "data": {
            "text/html": [
              "<div>\n",
              "<style scoped>\n",
              "    .dataframe tbody tr th:only-of-type {\n",
              "        vertical-align: middle;\n",
              "    }\n",
              "\n",
              "    .dataframe tbody tr th {\n",
              "        vertical-align: top;\n",
              "    }\n",
              "\n",
              "    .dataframe thead th {\n",
              "        text-align: right;\n",
              "    }\n",
              "</style>\n",
              "<table border=\"1\" class=\"dataframe\">\n",
              "  <thead>\n",
              "    <tr style=\"text-align: right;\">\n",
              "      <th></th>\n",
              "      <th>Open</th>\n",
              "      <th>High</th>\n",
              "      <th>Low</th>\n",
              "      <th>Close</th>\n",
              "      <th>Adj Close</th>\n",
              "      <th>Volume</th>\n",
              "      <th>DayOfWeek</th>\n",
              "      <th>Month</th>\n",
              "      <th>Day</th>\n",
              "      <th>Year</th>\n",
              "      <th>RawChange</th>\n",
              "      <th>PctChange</th>\n",
              "      <th>TheSign</th>\n",
              "      <th>FiveDayAvg</th>\n",
              "      <th>HundredDayAvg</th>\n",
              "    </tr>\n",
              "    <tr>\n",
              "      <th>Date</th>\n",
              "      <th></th>\n",
              "      <th></th>\n",
              "      <th></th>\n",
              "      <th></th>\n",
              "      <th></th>\n",
              "      <th></th>\n",
              "      <th></th>\n",
              "      <th></th>\n",
              "      <th></th>\n",
              "      <th></th>\n",
              "      <th></th>\n",
              "      <th></th>\n",
              "      <th></th>\n",
              "      <th></th>\n",
              "      <th></th>\n",
              "    </tr>\n",
              "  </thead>\n",
              "  <tbody>\n",
              "    <tr>\n",
              "      <th>2018-01-02</th>\n",
              "      <td>170.160004</td>\n",
              "      <td>172.300003</td>\n",
              "      <td>169.259995</td>\n",
              "      <td>172.259995</td>\n",
              "      <td>167.199890</td>\n",
              "      <td>25555900.0</td>\n",
              "      <td>Tuesday</td>\n",
              "      <td>1</td>\n",
              "      <td>2</td>\n",
              "      <td>2018</td>\n",
              "      <td>2.940994</td>\n",
              "      <td>0.017905</td>\n",
              "      <td>1.0</td>\n",
              "      <td>NaN</td>\n",
              "      <td>NaN</td>\n",
              "    </tr>\n",
              "    <tr>\n",
              "      <th>2018-01-03</th>\n",
              "      <td>172.529999</td>\n",
              "      <td>174.550003</td>\n",
              "      <td>171.960007</td>\n",
              "      <td>172.229996</td>\n",
              "      <td>167.170776</td>\n",
              "      <td>29517900.0</td>\n",
              "      <td>Wednesday</td>\n",
              "      <td>1</td>\n",
              "      <td>3</td>\n",
              "      <td>2018</td>\n",
              "      <td>-0.029114</td>\n",
              "      <td>-0.000174</td>\n",
              "      <td>-1.0</td>\n",
              "      <td>NaN</td>\n",
              "      <td>NaN</td>\n",
              "    </tr>\n",
              "    <tr>\n",
              "      <th>2018-01-04</th>\n",
              "      <td>172.539993</td>\n",
              "      <td>173.470001</td>\n",
              "      <td>172.080002</td>\n",
              "      <td>173.029999</td>\n",
              "      <td>167.947266</td>\n",
              "      <td>22434600.0</td>\n",
              "      <td>Thursday</td>\n",
              "      <td>1</td>\n",
              "      <td>4</td>\n",
              "      <td>2018</td>\n",
              "      <td>0.776490</td>\n",
              "      <td>0.004645</td>\n",
              "      <td>1.0</td>\n",
              "      <td>NaN</td>\n",
              "      <td>NaN</td>\n",
              "    </tr>\n",
              "    <tr>\n",
              "      <th>2018-01-05</th>\n",
              "      <td>173.440002</td>\n",
              "      <td>175.369995</td>\n",
              "      <td>173.050003</td>\n",
              "      <td>175.000000</td>\n",
              "      <td>169.859406</td>\n",
              "      <td>23660000.0</td>\n",
              "      <td>Friday</td>\n",
              "      <td>1</td>\n",
              "      <td>5</td>\n",
              "      <td>2018</td>\n",
              "      <td>1.912140</td>\n",
              "      <td>0.011385</td>\n",
              "      <td>1.0</td>\n",
              "      <td>NaN</td>\n",
              "      <td>NaN</td>\n",
              "    </tr>\n",
              "    <tr>\n",
              "      <th>2018-01-08</th>\n",
              "      <td>174.350006</td>\n",
              "      <td>175.610001</td>\n",
              "      <td>173.929993</td>\n",
              "      <td>174.350006</td>\n",
              "      <td>169.228500</td>\n",
              "      <td>20567800.0</td>\n",
              "      <td>Monday</td>\n",
              "      <td>1</td>\n",
              "      <td>8</td>\n",
              "      <td>2018</td>\n",
              "      <td>-0.630906</td>\n",
              "      <td>-0.003714</td>\n",
              "      <td>-1.0</td>\n",
              "      <td>0.006009</td>\n",
              "      <td>NaN</td>\n",
              "    </tr>\n",
              "    <tr>\n",
              "      <th>2018-01-09</th>\n",
              "      <td>174.550003</td>\n",
              "      <td>175.059998</td>\n",
              "      <td>173.410004</td>\n",
              "      <td>174.330002</td>\n",
              "      <td>169.209091</td>\n",
              "      <td>21584000.0</td>\n",
              "      <td>Tuesday</td>\n",
              "      <td>1</td>\n",
              "      <td>9</td>\n",
              "      <td>2018</td>\n",
              "      <td>-0.019409</td>\n",
              "      <td>-0.000115</td>\n",
              "      <td>-1.0</td>\n",
              "      <td>0.004989</td>\n",
              "      <td>NaN</td>\n",
              "    </tr>\n",
              "    <tr>\n",
              "      <th>2018-01-10</th>\n",
              "      <td>173.160004</td>\n",
              "      <td>174.300003</td>\n",
              "      <td>173.000000</td>\n",
              "      <td>174.289993</td>\n",
              "      <td>169.170258</td>\n",
              "      <td>23959900.0</td>\n",
              "      <td>Wednesday</td>\n",
              "      <td>1</td>\n",
              "      <td>10</td>\n",
              "      <td>2018</td>\n",
              "      <td>-0.038833</td>\n",
              "      <td>-0.000229</td>\n",
              "      <td>-1.0</td>\n",
              "      <td>0.004243</td>\n",
              "      <td>NaN</td>\n",
              "    </tr>\n",
              "    <tr>\n",
              "      <th>2018-01-11</th>\n",
              "      <td>174.589996</td>\n",
              "      <td>175.490005</td>\n",
              "      <td>174.490005</td>\n",
              "      <td>175.279999</td>\n",
              "      <td>170.131180</td>\n",
              "      <td>18667700.0</td>\n",
              "      <td>Thursday</td>\n",
              "      <td>1</td>\n",
              "      <td>11</td>\n",
              "      <td>2018</td>\n",
              "      <td>0.960922</td>\n",
              "      <td>0.005680</td>\n",
              "      <td>1.0</td>\n",
              "      <td>0.004423</td>\n",
              "      <td>NaN</td>\n",
              "    </tr>\n",
              "    <tr>\n",
              "      <th>2018-01-12</th>\n",
              "      <td>176.179993</td>\n",
              "      <td>177.360001</td>\n",
              "      <td>175.649994</td>\n",
              "      <td>177.089996</td>\n",
              "      <td>171.888031</td>\n",
              "      <td>25418100.0</td>\n",
              "      <td>Friday</td>\n",
              "      <td>1</td>\n",
              "      <td>12</td>\n",
              "      <td>2018</td>\n",
              "      <td>1.756851</td>\n",
              "      <td>0.010326</td>\n",
              "      <td>1.0</td>\n",
              "      <td>0.005079</td>\n",
              "      <td>NaN</td>\n",
              "    </tr>\n",
              "    <tr>\n",
              "      <th>2018-01-16</th>\n",
              "      <td>177.899994</td>\n",
              "      <td>179.389999</td>\n",
              "      <td>176.139999</td>\n",
              "      <td>176.190002</td>\n",
              "      <td>171.014465</td>\n",
              "      <td>29565900.0</td>\n",
              "      <td>Tuesday</td>\n",
              "      <td>1</td>\n",
              "      <td>16</td>\n",
              "      <td>2018</td>\n",
              "      <td>-0.873566</td>\n",
              "      <td>-0.005082</td>\n",
              "      <td>-1.0</td>\n",
              "      <td>0.004063</td>\n",
              "      <td>NaN</td>\n",
              "    </tr>\n",
              "  </tbody>\n",
              "</table>\n",
              "</div>"
            ],
            "text/plain": [
              "                  Open        High  ...  FiveDayAvg  HundredDayAvg\n",
              "Date                                ...                           \n",
              "2018-01-02  170.160004  172.300003  ...         NaN            NaN\n",
              "2018-01-03  172.529999  174.550003  ...         NaN            NaN\n",
              "2018-01-04  172.539993  173.470001  ...         NaN            NaN\n",
              "2018-01-05  173.440002  175.369995  ...         NaN            NaN\n",
              "2018-01-08  174.350006  175.610001  ...    0.006009            NaN\n",
              "2018-01-09  174.550003  175.059998  ...    0.004989            NaN\n",
              "2018-01-10  173.160004  174.300003  ...    0.004243            NaN\n",
              "2018-01-11  174.589996  175.490005  ...    0.004423            NaN\n",
              "2018-01-12  176.179993  177.360001  ...    0.005079            NaN\n",
              "2018-01-16  177.899994  179.389999  ...    0.004063            NaN\n",
              "\n",
              "[10 rows x 15 columns]"
            ]
          },
          "metadata": {
            "tags": []
          },
          "execution_count": 43
        }
      ]
    },
    {
      "cell_type": "code",
      "metadata": {
        "id": "-ap251FKiuym",
        "colab": {
          "base_uri": "https://localhost:8080/",
          "height": 599
        },
        "outputId": "63437cbd-1dd7-466e-ba39-3b2c9fe65153"
      },
      "source": [
        "# make a nice plot of a 5 day moving average\n",
        "plt.figure(figsize=[15,10])\n",
        "plt.grid(True)\n",
        "plt.plot(newdata['FiveDayAvg'],label='5 day moving avg')\n",
        "plt.title(\"Five Day Moving Average\")\n",
        "plt.legend(loc=2)"
      ],
      "execution_count": null,
      "outputs": [
        {
          "output_type": "execute_result",
          "data": {
            "text/plain": [
              "<matplotlib.legend.Legend at 0x7fb24eb0fbe0>"
            ]
          },
          "metadata": {
            "tags": []
          },
          "execution_count": 44
        },
        {
          "output_type": "display_data",
          "data": {
            "image/png": "[encoded data removed]",
            "text/plain": [
              "<Figure size 1080x720 with 1 Axes>"
            ]
          },
          "metadata": {
            "tags": [],
            "needs_background": "light"
          }
        }
      ]
    },
    {
      "cell_type": "code",
      "metadata": {
        "id": "FNkp1Ml8kWm2",
        "colab": {
          "base_uri": "https://localhost:8080/",
          "height": 595
        },
        "outputId": "b3e5c5ee-b5d4-486a-a075-2136dd391cae"
      },
      "source": [
        "# make a nice plot of a 100 day moving average\n",
        "plt.figure(figsize=[15,10])\n",
        "plt.grid(True)\n",
        "plt.plot(newdata['HundredDayAvg'],label='100 day moving avg', color=\"red\")\n",
        "plt.title(\"Hundred Day Moving Average (Pct Change)\")\n",
        "plt.legend(loc=2)"
      ],
      "execution_count": null,
      "outputs": [
        {
          "output_type": "execute_result",
          "data": {
            "text/plain": [
              "<matplotlib.legend.Legend at 0x7fb24f27e390>"
            ]
          },
          "metadata": {
            "tags": []
          },
          "execution_count": 45
        },
        {
          "output_type": "display_data",
          "data": {
            "image/png": "[encoded data removed]",
            "text/plain": [
              "<Figure size 1080x720 with 1 Axes>"
            ]
          },
          "metadata": {
            "tags": [],
            "needs_background": "light"
          }
        }
      ]
    },
    {
      "cell_type": "code",
      "metadata": {
        "id": "cNvOMKOY2ofJ",
        "colab": {
          "base_uri": "https://localhost:8080/",
          "height": 534
        },
        "outputId": "d70dcb9c-55c8-4f4a-c1d9-8cabb2fcfc2e"
      },
      "source": [
        "# Note that they have different y-axis\n",
        "\n",
        "plt.figure(figsize=[15,10])\n",
        "plt.grid(True)\n",
        "ax1 = newdata.FiveDayAvg.plot(color='blue', grid=True, label='5 days moving avg')\n",
        "ax2 = newdata.HundredDayAvg.plot(color='red', grid=True, secondary_y=True, label='100 days moving avg')\n",
        "\n",
        "plt.title(\"Moving Average (Pct Change)\")\n",
        "plt.legend(loc=2)\n",
        "plt.show()"
      ],
      "execution_count": null,
      "outputs": [
        {
          "output_type": "display_data",
          "data": {
            "image/png": "[encoded data removed]",
            "text/plain": [
              "<Figure size 1080x720 with 2 Axes>"
            ]
          },
          "metadata": {
            "tags": [],
            "needs_background": "light"
          }
        }
      ]
    },
    {
      "cell_type": "markdown",
      "metadata": {
        "id": "9TjzQsVnjjUC"
      },
      "source": [
        "The longer the moving average, the smoother the trend is and the less susceptible it is to shocks. And vice versa."
      ]
    }
  ]
}